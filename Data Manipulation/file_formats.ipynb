{
 "cells": [
  {
   "cell_type": "markdown",
   "metadata": {},
   "source": [
    "# Libraries"
   ]
  },
  {
   "cell_type": "code",
   "execution_count": 8,
   "metadata": {},
   "outputs": [],
   "source": [
    "import numpy as np\n",
    "import pandas as pd\n",
    "import sqlite3 as sql"
   ]
  },
  {
   "cell_type": "markdown",
   "metadata": {},
   "source": [
    "# .csv"
   ]
  },
  {
   "cell_type": "code",
   "execution_count": 9,
   "metadata": {},
   "outputs": [
    {
     "data": {
      "text/html": [
       "<div>\n",
       "<style scoped>\n",
       "    .dataframe tbody tr th:only-of-type {\n",
       "        vertical-align: middle;\n",
       "    }\n",
       "\n",
       "    .dataframe tbody tr th {\n",
       "        vertical-align: top;\n",
       "    }\n",
       "\n",
       "    .dataframe thead th {\n",
       "        text-align: right;\n",
       "    }\n",
       "</style>\n",
       "<table border=\"1\" class=\"dataframe\">\n",
       "  <thead>\n",
       "    <tr style=\"text-align: right;\">\n",
       "      <th></th>\n",
       "      <th>name</th>\n",
       "      <th>surname</th>\n",
       "      <th>email</th>\n",
       "      <th>phone</th>\n",
       "      <th>house_number</th>\n",
       "      <th>street</th>\n",
       "      <th>city</th>\n",
       "      <th>state</th>\n",
       "      <th>zipcode</th>\n",
       "    </tr>\n",
       "  </thead>\n",
       "  <tbody>\n",
       "    <tr>\n",
       "      <th>0</th>\n",
       "      <td>Herminia</td>\n",
       "      <td>Marshall</td>\n",
       "      <td>herminia.marshall@example.com</td>\n",
       "      <td>678-313-8625</td>\n",
       "      <td>4893</td>\n",
       "      <td>Hanifan Lane</td>\n",
       "      <td>Atlanta</td>\n",
       "      <td>GA</td>\n",
       "      <td>30303</td>\n",
       "    </tr>\n",
       "    <tr>\n",
       "      <th>1</th>\n",
       "      <td>Bernice</td>\n",
       "      <td>Richardson</td>\n",
       "      <td>bernice.richardson@example.com</td>\n",
       "      <td>406-640-0952</td>\n",
       "      <td>4508</td>\n",
       "      <td>Coolidge Street</td>\n",
       "      <td>Beach</td>\n",
       "      <td>MT</td>\n",
       "      <td>58621</td>\n",
       "    </tr>\n",
       "    <tr>\n",
       "      <th>2</th>\n",
       "      <td>Maeleachlainn</td>\n",
       "      <td>Albertson</td>\n",
       "      <td>maeleachlainn.albertson@example.com</td>\n",
       "      <td>936-514-5533</td>\n",
       "      <td>1345</td>\n",
       "      <td>Norma Avenue</td>\n",
       "      <td>Prairie View</td>\n",
       "      <td>TX</td>\n",
       "      <td>77445</td>\n",
       "    </tr>\n",
       "  </tbody>\n",
       "</table>\n",
       "</div>"
      ],
      "text/plain": [
       "            name     surname                                email  \\\n",
       "0       Herminia    Marshall        herminia.marshall@example.com   \n",
       "1        Bernice  Richardson       bernice.richardson@example.com   \n",
       "2  Maeleachlainn   Albertson  maeleachlainn.albertson@example.com   \n",
       "\n",
       "          phone  house_number           street          city state  zipcode  \n",
       "0  678-313-8625          4893     Hanifan Lane       Atlanta    GA    30303  \n",
       "1  406-640-0952          4508  Coolidge Street         Beach    MT    58621  \n",
       "2  936-514-5533          1345     Norma Avenue  Prairie View    TX    77445  "
      ]
     },
     "execution_count": 9,
     "metadata": {},
     "output_type": "execute_result"
    }
   ],
   "source": [
    "data_csv = pd.read_csv(\"data/example_files/users.csv\")\n",
    "data_csv.head(3)"
   ]
  },
  {
   "cell_type": "markdown",
   "metadata": {},
   "source": [
    "# .tsv"
   ]
  },
  {
   "cell_type": "code",
   "execution_count": 10,
   "metadata": {},
   "outputs": [
    {
     "data": {
      "text/html": [
       "<div>\n",
       "<style scoped>\n",
       "    .dataframe tbody tr th:only-of-type {\n",
       "        vertical-align: middle;\n",
       "    }\n",
       "\n",
       "    .dataframe tbody tr th {\n",
       "        vertical-align: top;\n",
       "    }\n",
       "\n",
       "    .dataframe thead th {\n",
       "        text-align: right;\n",
       "    }\n",
       "</style>\n",
       "<table border=\"1\" class=\"dataframe\">\n",
       "  <thead>\n",
       "    <tr style=\"text-align: right;\">\n",
       "      <th></th>\n",
       "      <th>name</th>\n",
       "      <th>surname</th>\n",
       "      <th>email</th>\n",
       "      <th>phone</th>\n",
       "      <th>house_number</th>\n",
       "      <th>street</th>\n",
       "      <th>city</th>\n",
       "      <th>state</th>\n",
       "      <th>zipcode</th>\n",
       "    </tr>\n",
       "  </thead>\n",
       "  <tbody>\n",
       "    <tr>\n",
       "      <th>0</th>\n",
       "      <td>Herminia</td>\n",
       "      <td>Marshall</td>\n",
       "      <td>herminia.marshall@example.com</td>\n",
       "      <td>678-313-8625</td>\n",
       "      <td>4893</td>\n",
       "      <td>Hanifan Lane</td>\n",
       "      <td>Atlanta</td>\n",
       "      <td>GA</td>\n",
       "      <td>30303</td>\n",
       "    </tr>\n",
       "    <tr>\n",
       "      <th>1</th>\n",
       "      <td>Bernice</td>\n",
       "      <td>Richardson</td>\n",
       "      <td>bernice.richardson@example.com</td>\n",
       "      <td>406-640-0952</td>\n",
       "      <td>4508</td>\n",
       "      <td>Coolidge Street</td>\n",
       "      <td>Beach</td>\n",
       "      <td>MT</td>\n",
       "      <td>58621</td>\n",
       "    </tr>\n",
       "    <tr>\n",
       "      <th>2</th>\n",
       "      <td>Maeleachlainn</td>\n",
       "      <td>Albertson</td>\n",
       "      <td>maeleachlainn.albertson@example.com</td>\n",
       "      <td>936-514-5533</td>\n",
       "      <td>1345</td>\n",
       "      <td>Norma Avenue</td>\n",
       "      <td>Prairie View</td>\n",
       "      <td>TX</td>\n",
       "      <td>77445</td>\n",
       "    </tr>\n",
       "  </tbody>\n",
       "</table>\n",
       "</div>"
      ],
      "text/plain": [
       "            name     surname                                email  \\\n",
       "0       Herminia    Marshall        herminia.marshall@example.com   \n",
       "1        Bernice  Richardson       bernice.richardson@example.com   \n",
       "2  Maeleachlainn   Albertson  maeleachlainn.albertson@example.com   \n",
       "\n",
       "          phone  house_number           street          city state  zipcode  \n",
       "0  678-313-8625          4893     Hanifan Lane       Atlanta    GA    30303  \n",
       "1  406-640-0952          4508  Coolidge Street         Beach    MT    58621  \n",
       "2  936-514-5533          1345     Norma Avenue  Prairie View    TX    77445  "
      ]
     },
     "execution_count": 10,
     "metadata": {},
     "output_type": "execute_result"
    }
   ],
   "source": [
    "data_tsv = pd.read_csv(\"data/example_files/users.tsv\", sep=\"\\t\")\n",
    "data_tsv.head(3)"
   ]
  },
  {
   "cell_type": "markdown",
   "metadata": {},
   "source": [
    "# .xlsx"
   ]
  },
  {
   "cell_type": "code",
   "execution_count": 13,
   "metadata": {},
   "outputs": [
    {
     "data": {
      "text/html": [
       "<div>\n",
       "<style scoped>\n",
       "    .dataframe tbody tr th:only-of-type {\n",
       "        vertical-align: middle;\n",
       "    }\n",
       "\n",
       "    .dataframe tbody tr th {\n",
       "        vertical-align: top;\n",
       "    }\n",
       "\n",
       "    .dataframe thead th {\n",
       "        text-align: right;\n",
       "    }\n",
       "</style>\n",
       "<table border=\"1\" class=\"dataframe\">\n",
       "  <thead>\n",
       "    <tr style=\"text-align: right;\">\n",
       "      <th></th>\n",
       "      <th>name</th>\n",
       "      <th>surname</th>\n",
       "      <th>email</th>\n",
       "      <th>phone</th>\n",
       "      <th>house_number</th>\n",
       "      <th>street</th>\n",
       "      <th>city</th>\n",
       "      <th>state</th>\n",
       "      <th>zipcode</th>\n",
       "    </tr>\n",
       "  </thead>\n",
       "  <tbody>\n",
       "    <tr>\n",
       "      <th>0</th>\n",
       "      <td>Herminia</td>\n",
       "      <td>Marshall</td>\n",
       "      <td>herminia.marshall@example.com</td>\n",
       "      <td>678-313-8625</td>\n",
       "      <td>4893</td>\n",
       "      <td>Hanifan Lane</td>\n",
       "      <td>Atlanta</td>\n",
       "      <td>GA</td>\n",
       "      <td>30303</td>\n",
       "    </tr>\n",
       "    <tr>\n",
       "      <th>1</th>\n",
       "      <td>Bernice</td>\n",
       "      <td>Richardson</td>\n",
       "      <td>bernice.richardson@example.com</td>\n",
       "      <td>406-640-0952</td>\n",
       "      <td>4508</td>\n",
       "      <td>Coolidge Street</td>\n",
       "      <td>Beach</td>\n",
       "      <td>MT</td>\n",
       "      <td>58621</td>\n",
       "    </tr>\n",
       "    <tr>\n",
       "      <th>2</th>\n",
       "      <td>Maeleachlainn</td>\n",
       "      <td>Albertson</td>\n",
       "      <td>maeleachlainn.albertson@example.com</td>\n",
       "      <td>936-514-5533</td>\n",
       "      <td>1345</td>\n",
       "      <td>Norma Avenue</td>\n",
       "      <td>Prairie View</td>\n",
       "      <td>TX</td>\n",
       "      <td>77445</td>\n",
       "    </tr>\n",
       "  </tbody>\n",
       "</table>\n",
       "</div>"
      ],
      "text/plain": [
       "            name     surname                                email  \\\n",
       "0       Herminia    Marshall        herminia.marshall@example.com   \n",
       "1        Bernice  Richardson       bernice.richardson@example.com   \n",
       "2  Maeleachlainn   Albertson  maeleachlainn.albertson@example.com   \n",
       "\n",
       "          phone  house_number           street          city state  zipcode  \n",
       "0  678-313-8625          4893     Hanifan Lane       Atlanta    GA    30303  \n",
       "1  406-640-0952          4508  Coolidge Street         Beach    MT    58621  \n",
       "2  936-514-5533          1345     Norma Avenue  Prairie View    TX    77445  "
      ]
     },
     "execution_count": 13,
     "metadata": {},
     "output_type": "execute_result"
    }
   ],
   "source": [
    "data_xlsx = pd.read_excel(\"data/example_files/users.xlsx\")\n",
    "data_xlsx.head(3)"
   ]
  },
  {
   "cell_type": "markdown",
   "metadata": {},
   "source": [
    "# .json"
   ]
  },
  {
   "cell_type": "code",
   "execution_count": 12,
   "metadata": {},
   "outputs": [
    {
     "data": {
      "text/html": [
       "<div>\n",
       "<style scoped>\n",
       "    .dataframe tbody tr th:only-of-type {\n",
       "        vertical-align: middle;\n",
       "    }\n",
       "\n",
       "    .dataframe tbody tr th {\n",
       "        vertical-align: top;\n",
       "    }\n",
       "\n",
       "    .dataframe thead th {\n",
       "        text-align: right;\n",
       "    }\n",
       "</style>\n",
       "<table border=\"1\" class=\"dataframe\">\n",
       "  <thead>\n",
       "    <tr style=\"text-align: right;\">\n",
       "      <th></th>\n",
       "      <th>name</th>\n",
       "      <th>surname</th>\n",
       "      <th>email</th>\n",
       "      <th>phone</th>\n",
       "      <th>house_number</th>\n",
       "      <th>street</th>\n",
       "      <th>city</th>\n",
       "      <th>state</th>\n",
       "      <th>zipcode</th>\n",
       "    </tr>\n",
       "  </thead>\n",
       "  <tbody>\n",
       "    <tr>\n",
       "      <th>0</th>\n",
       "      <td>Herminia</td>\n",
       "      <td>Marshall</td>\n",
       "      <td>herminia.marshall@example.com</td>\n",
       "      <td>678-313-8625</td>\n",
       "      <td>4893</td>\n",
       "      <td>Hanifan Lane</td>\n",
       "      <td>Atlanta</td>\n",
       "      <td>GA</td>\n",
       "      <td>30303</td>\n",
       "    </tr>\n",
       "    <tr>\n",
       "      <th>1</th>\n",
       "      <td>Bernice</td>\n",
       "      <td>Richardson</td>\n",
       "      <td>bernice.richardson@example.com</td>\n",
       "      <td>406-640-0952</td>\n",
       "      <td>4508</td>\n",
       "      <td>Coolidge Street</td>\n",
       "      <td>Beach</td>\n",
       "      <td>MT</td>\n",
       "      <td>58621</td>\n",
       "    </tr>\n",
       "    <tr>\n",
       "      <th>2</th>\n",
       "      <td>Maeleachlainn</td>\n",
       "      <td>Albertson</td>\n",
       "      <td>maeleachlainn.albertson@example.com</td>\n",
       "      <td>936-514-5533</td>\n",
       "      <td>1345</td>\n",
       "      <td>Norma Avenue</td>\n",
       "      <td>Prairie View</td>\n",
       "      <td>TX</td>\n",
       "      <td>77445</td>\n",
       "    </tr>\n",
       "  </tbody>\n",
       "</table>\n",
       "</div>"
      ],
      "text/plain": [
       "            name     surname                                email  \\\n",
       "0       Herminia    Marshall        herminia.marshall@example.com   \n",
       "1        Bernice  Richardson       bernice.richardson@example.com   \n",
       "2  Maeleachlainn   Albertson  maeleachlainn.albertson@example.com   \n",
       "\n",
       "          phone  house_number           street          city state  zipcode  \n",
       "0  678-313-8625          4893     Hanifan Lane       Atlanta    GA    30303  \n",
       "1  406-640-0952          4508  Coolidge Street         Beach    MT    58621  \n",
       "2  936-514-5533          1345     Norma Avenue  Prairie View    TX    77445  "
      ]
     },
     "execution_count": 12,
     "metadata": {},
     "output_type": "execute_result"
    }
   ],
   "source": [
    "data_json = pd.read_json(\"data/example_files/users.json\")\n",
    "data_json.head(3)"
   ]
  },
  {
   "cell_type": "markdown",
   "metadata": {},
   "source": [
    "# SQL"
   ]
  },
  {
   "cell_type": "code",
   "execution_count": 15,
   "metadata": {},
   "outputs": [
    {
     "data": {
      "text/html": [
       "<div>\n",
       "<style scoped>\n",
       "    .dataframe tbody tr th:only-of-type {\n",
       "        vertical-align: middle;\n",
       "    }\n",
       "\n",
       "    .dataframe tbody tr th {\n",
       "        vertical-align: top;\n",
       "    }\n",
       "\n",
       "    .dataframe thead th {\n",
       "        text-align: right;\n",
       "    }\n",
       "</style>\n",
       "<table border=\"1\" class=\"dataframe\">\n",
       "  <thead>\n",
       "    <tr style=\"text-align: right;\">\n",
       "      <th></th>\n",
       "      <th>name</th>\n",
       "      <th>surname</th>\n",
       "      <th>email</th>\n",
       "      <th>phone</th>\n",
       "      <th>house_number</th>\n",
       "      <th>street</th>\n",
       "      <th>city</th>\n",
       "      <th>state</th>\n",
       "      <th>zipcode</th>\n",
       "    </tr>\n",
       "  </thead>\n",
       "  <tbody>\n",
       "    <tr>\n",
       "      <th>0</th>\n",
       "      <td>Herminia</td>\n",
       "      <td>Marshall</td>\n",
       "      <td>herminia.marshall@example.com</td>\n",
       "      <td>678-313-8625</td>\n",
       "      <td>4893</td>\n",
       "      <td>Hanifan Lane</td>\n",
       "      <td>Atlanta</td>\n",
       "      <td>GA</td>\n",
       "      <td>30303</td>\n",
       "    </tr>\n",
       "    <tr>\n",
       "      <th>1</th>\n",
       "      <td>Bernice</td>\n",
       "      <td>Richardson</td>\n",
       "      <td>bernice.richardson@example.com</td>\n",
       "      <td>406-640-0952</td>\n",
       "      <td>4508</td>\n",
       "      <td>Coolidge Street</td>\n",
       "      <td>Beach</td>\n",
       "      <td>MT</td>\n",
       "      <td>58621</td>\n",
       "    </tr>\n",
       "    <tr>\n",
       "      <th>2</th>\n",
       "      <td>Maeleachlainn</td>\n",
       "      <td>Albertson</td>\n",
       "      <td>maeleachlainn.albertson@example.com</td>\n",
       "      <td>936-514-5533</td>\n",
       "      <td>1345</td>\n",
       "      <td>Norma Avenue</td>\n",
       "      <td>Prairie View</td>\n",
       "      <td>TX</td>\n",
       "      <td>77445</td>\n",
       "    </tr>\n",
       "  </tbody>\n",
       "</table>\n",
       "</div>"
      ],
      "text/plain": [
       "            name     surname                                email  \\\n",
       "0       Herminia    Marshall        herminia.marshall@example.com   \n",
       "1        Bernice  Richardson       bernice.richardson@example.com   \n",
       "2  Maeleachlainn   Albertson  maeleachlainn.albertson@example.com   \n",
       "\n",
       "          phone house_number           street          city state zipcode  \n",
       "0  678-313-8625         4893     Hanifan Lane       Atlanta    GA   30303  \n",
       "1  406-640-0952         4508  Coolidge Street         Beach    MT   58621  \n",
       "2  936-514-5533         1345     Norma Avenue  Prairie View    TX   77445  "
      ]
     },
     "execution_count": 15,
     "metadata": {},
     "output_type": "execute_result"
    }
   ],
   "source": [
    "conn = sql.connect(\"data/example_files/users.db\")\n",
    "data_sql = pd.read_sql(\"SELECT * FROM users;\", conn)\n",
    "conn.close()\n",
    "\n",
    "data_sql.head(3)"
   ]
  },
  {
   "cell_type": "markdown",
   "metadata": {},
   "source": [
    "# URL"
   ]
  },
  {
   "cell_type": "code",
   "execution_count": null,
   "metadata": {},
   "outputs": [],
   "source": []
  },
  {
   "cell_type": "markdown",
   "metadata": {},
   "source": [
    "# Reading Large Files"
   ]
  },
  {
   "cell_type": "code",
   "execution_count": null,
   "metadata": {},
   "outputs": [],
   "source": []
  }
 ],
 "metadata": {
  "kernelspec": {
   "display_name": "Python 3",
   "language": "python",
   "name": "python3"
  },
  "language_info": {
   "codemirror_mode": {
    "name": "ipython",
    "version": 3
   },
   "file_extension": ".py",
   "mimetype": "text/x-python",
   "name": "python",
   "nbconvert_exporter": "python",
   "pygments_lexer": "ipython3",
   "version": "3.12.2"
  }
 },
 "nbformat": 4,
 "nbformat_minor": 2
}
