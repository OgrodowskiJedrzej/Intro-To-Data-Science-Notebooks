{
 "cells": [
  {
   "cell_type": "markdown",
   "metadata": {},
   "source": [
    "# Libraries"
   ]
  },
  {
   "cell_type": "code",
   "execution_count": 1,
   "metadata": {},
   "outputs": [],
   "source": [
    "import numpy as np\n",
    "import pandas as pd"
   ]
  },
  {
   "cell_type": "markdown",
   "metadata": {},
   "source": [
    "# Data import"
   ]
  },
  {
   "cell_type": "code",
   "execution_count": 54,
   "metadata": {},
   "outputs": [
    {
     "data": {
      "text/html": [
       "<div>\n",
       "<style scoped>\n",
       "    .dataframe tbody tr th:only-of-type {\n",
       "        vertical-align: middle;\n",
       "    }\n",
       "\n",
       "    .dataframe tbody tr th {\n",
       "        vertical-align: top;\n",
       "    }\n",
       "\n",
       "    .dataframe thead th {\n",
       "        text-align: right;\n",
       "    }\n",
       "</style>\n",
       "<table border=\"1\" class=\"dataframe\">\n",
       "  <thead>\n",
       "    <tr style=\"text-align: right;\">\n",
       "      <th></th>\n",
       "      <th>name</th>\n",
       "      <th>link</th>\n",
       "      <th>price</th>\n",
       "      <th>kraj</th>\n",
       "      <th>region</th>\n",
       "      <th>apelacja</th>\n",
       "      <th>winnica</th>\n",
       "      <th>rodzaj wina</th>\n",
       "      <th>smak</th>\n",
       "      <th>styl</th>\n",
       "      <th>...</th>\n",
       "      <th>rocznik3</th>\n",
       "      <th>temperatura podawania2</th>\n",
       "      <th>wino koszerne</th>\n",
       "      <th>region2</th>\n",
       "      <th>ilość win</th>\n",
       "      <th>grona9</th>\n",
       "      <th>grona10</th>\n",
       "      <th>grona11</th>\n",
       "      <th>grona12</th>\n",
       "      <th>grona13</th>\n",
       "    </tr>\n",
       "  </thead>\n",
       "  <tbody>\n",
       "    <tr>\n",
       "      <th>0</th>\n",
       "      <td>1,5 L Szampan Moet &amp; Chandon Brut Imperial Mag...</td>\n",
       "      <td>https://www.wina.pl/szampany/3056-15-l-szampan...</td>\n",
       "      <td>666,00 zł</td>\n",
       "      <td>Francja</td>\n",
       "      <td>Szampania</td>\n",
       "      <td>Champagne AOC</td>\n",
       "      <td>Moet &amp; Chandon</td>\n",
       "      <td>szampan</td>\n",
       "      <td>wytrawne</td>\n",
       "      <td>średnie</td>\n",
       "      <td>...</td>\n",
       "      <td>NaN</td>\n",
       "      <td>NaN</td>\n",
       "      <td>NaN</td>\n",
       "      <td>NaN</td>\n",
       "      <td>NaN</td>\n",
       "      <td>NaN</td>\n",
       "      <td>NaN</td>\n",
       "      <td>NaN</td>\n",
       "      <td>NaN</td>\n",
       "      <td>NaN</td>\n",
       "    </tr>\n",
       "  </tbody>\n",
       "</table>\n",
       "<p>1 rows × 52 columns</p>\n",
       "</div>"
      ],
      "text/plain": [
       "                                                name  \\\n",
       "0  1,5 L Szampan Moet & Chandon Brut Imperial Mag...   \n",
       "\n",
       "                                                link      price     kraj  \\\n",
       "0  https://www.wina.pl/szampany/3056-15-l-szampan...  666,00 zł  Francja   \n",
       "\n",
       "      region       apelacja         winnica rodzaj wina      smak     styl  \\\n",
       "0  Szampania  Champagne AOC  Moet & Chandon     szampan  wytrawne  średnie   \n",
       "\n",
       "   ... rocznik3 temperatura podawania2 wino koszerne region2 ilość win  \\\n",
       "0  ...      NaN                    NaN           NaN     NaN       NaN   \n",
       "\n",
       "   grona9 grona10 grona11 grona12 grona13  \n",
       "0     NaN     NaN     NaN     NaN     NaN  \n",
       "\n",
       "[1 rows x 52 columns]"
      ]
     },
     "execution_count": 54,
     "metadata": {},
     "output_type": "execute_result"
    }
   ],
   "source": [
    "data = pd.read_csv(\"./data/wina.pl_raw.csv\")\n",
    "data.head(1)"
   ]
  },
  {
   "cell_type": "markdown",
   "metadata": {},
   "source": [
    "# Print basic informations about columns"
   ]
  },
  {
   "cell_type": "code",
   "execution_count": 55,
   "metadata": {},
   "outputs": [
    {
     "name": "stdout",
     "output_type": "stream",
     "text": [
      "<class 'pandas.core.frame.DataFrame'>\n",
      "RangeIndex: 2251 entries, 0 to 2250\n",
      "Data columns (total 52 columns):\n",
      " #   Column                  Non-Null Count  Dtype  \n",
      "---  ------                  --------------  -----  \n",
      " 0   alkohol zawartość       3 non-null      object \n",
      " 1   apelacja                1650 non-null   object \n",
      " 2   bio                     675 non-null    object \n",
      " 3   bio2                    129 non-null    object \n",
      " 4   bio3                    34 non-null     object \n",
      " 5   czy winnica bio         520 non-null    object \n",
      " 6   falstaff                84 non-null     object \n",
      " 7   grona                   2197 non-null   object \n",
      " 8   grona10                 1 non-null      object \n",
      " 9   grona11                 1 non-null      object \n",
      " 10  grona12                 1 non-null      object \n",
      " 11  grona13                 1 non-null      object \n",
      " 12  grona2                  607 non-null    object \n",
      " 13  grona3                  331 non-null    object \n",
      " 14  grona4                  94 non-null     object \n",
      " 15  grona5                  28 non-null     object \n",
      " 16  grona6                  9 non-null      object \n",
      " 17  grona7                  4 non-null      object \n",
      " 18  grona8                  2 non-null      object \n",
      " 19  grona9                  1 non-null      object \n",
      " 20  guia penin              30 non-null     object \n",
      " 21  ilość win               2 non-null      float64\n",
      " 22  james suckling          73 non-null     object \n",
      " 23  kraj                    2242 non-null   object \n",
      " 24  link                    2251 non-null   object \n",
      " 25  medale                  162 non-null    object \n",
      " 26  medale2                 29 non-null     object \n",
      " 27  medale3                 7 non-null      object \n",
      " 28  name                    2251 non-null   object \n",
      " 29  objętość                4 non-null      object \n",
      " 30  oceny prasy             173 non-null    object \n",
      " 31  pojemność               2178 non-null   object \n",
      " 32  price                   2251 non-null   object \n",
      " 33  producent               7 non-null      object \n",
      " 34  region                  2079 non-null   object \n",
      " 35  region2                 5 non-null      object \n",
      " 36  rocznik                 2030 non-null   object \n",
      " 37  rocznik2                15 non-null     float64\n",
      " 38  rocznik3                1 non-null      float64\n",
      " 39  rodzaj wina             2216 non-null   object \n",
      " 40  rodzaj wina2            38 non-null     object \n",
      " 41  smak                    2197 non-null   object \n",
      " 42  styl                    1808 non-null   object \n",
      " 43  temperatura podawania   1779 non-null   object \n",
      " 44  temperatura podawania2  1 non-null      object \n",
      " 45  wine spectator          87 non-null     object \n",
      " 46  winnica                 1231 non-null   object \n",
      " 47  wino koszerne           2 non-null      object \n",
      " 48  wino wegańskie          256 non-null    object \n",
      " 49  wysyłka w ciągu         2127 non-null   object \n",
      " 50  zawartość alkoholu      1722 non-null   object \n",
      " 51  zawartość alkoholu2     2 non-null      object \n",
      "dtypes: float64(3), object(49)\n",
      "memory usage: 914.6+ KB\n"
     ]
    }
   ],
   "source": [
    "data[sorted(data.columns)].info()"
   ]
  },
  {
   "cell_type": "markdown",
   "metadata": {},
   "source": [
    "# Remove products which is not wines\n",
    "\n",
    "To remove: `idxs = [460, 462]`"
   ]
  },
  {
   "cell_type": "code",
   "execution_count": 56,
   "metadata": {},
   "outputs": [],
   "source": [
    "data = data[~(data['name'] == 'Chateau ISH Sparkling Rose w puszce (bezalkoholowe)')]\n",
    "data = data[~(data['name'] == 'Chateau ISH Sparkling White w puszce (bezalkoholowe)')]\n",
    "data = data[data['ilość win'].isnull()]\n",
    "data.reset_index(inplace=True, drop=True)"
   ]
  },
  {
   "cell_type": "markdown",
   "metadata": {},
   "source": [
    "# Remove unnecessary columns"
   ]
  },
  {
   "cell_type": "code",
   "execution_count": 57,
   "metadata": {},
   "outputs": [],
   "source": [
    "data.drop(['ilość win', 'wino koszerne', 'producent', 'wysyłka w ciągu', 'temperatura podawania2'], axis=1, inplace=True)"
   ]
  },
  {
   "cell_type": "markdown",
   "metadata": {},
   "source": [
    "# Name\n",
    "\n",
    "Related columns: `name`\n",
    "\n",
    "Units in product name: `['ml', 'Ml', 'ML', 'l', 'L', 'litrów', 'NV']`"
   ]
  },
  {
   "cell_type": "code",
   "execution_count": null,
   "metadata": {},
   "outputs": [],
   "source": [
    "def is_number(text: str) -> bool:\n",
    "    '''Check if text contain a number.'''\n",
    "    for digit in [str(i) for i in range(10)]:\n",
    "        if digit in text:\n",
    "            return True\n",
    "    return False\n",
    "\n",
    "def is_unit(text: str) -> bool:\n",
    "    if text in ['ml', 'Ml', 'ML', 'l', 'L', 'litrów', 'NV']:\n",
    "        return True\n",
    "    return False\n",
    "\n",
    "def convert_name(name: str) -> str:\n",
    "    words = []\n",
    "    for word in name.split():\n",
    "        if is_number(word):\n",
    "            continue\n",
    "\n",
    "        if is_unit(word):\n",
    "            continue\n",
    "\n",
    "        words.append(word)\n",
    "    \n",
    "    return \" \".join(words)\n",
    "\n",
    "data['name'] = data[\"name\"].transform(convert_name)"
   ]
  },
  {
   "cell_type": "markdown",
   "metadata": {},
   "source": [
    "# Price\n",
    "\n",
    "Related columns: `price`\n",
    "\n",
    "Watch out for \\xa0 sign!"
   ]
  },
  {
   "cell_type": "code",
   "execution_count": 60,
   "metadata": {},
   "outputs": [],
   "source": [
    "def convert_price(price:str) -> float:\n",
    "    price = price.rstrip(\" zł\")\n",
    "    price = price.replace(\",\", \".\").replace(\" \", \"\").replace(u\"\\xa0\", \"\")\n",
    "    return float(price)\n",
    "\n",
    "data[\"price\"] = data[\"price\"].transform(convert_price)"
   ]
  },
  {
   "cell_type": "markdown",
   "metadata": {},
   "source": [
    "# Region\n",
    "\n",
    "Related columns: `region`, `region2`"
   ]
  },
  {
   "cell_type": "code",
   "execution_count": 61,
   "metadata": {},
   "outputs": [],
   "source": [
    "def concat_region(row:pd.Series) -> pd.Series:\n",
    "    if (not pd.isna(row[\"region\"])) and (not pd.isna(row[\"region2\"])):\n",
    "        row[\"region\"] += \", \" + row[\"region2\"]\n",
    "    return row\n",
    "\n",
    "data = data.transform(concat_region, axis=1)"
   ]
  },
  {
   "cell_type": "markdown",
   "metadata": {},
   "source": [
    "# Vintage\n",
    "\n",
    "Related columns: `rocznik`, `rocznik2`, `rocznik3`"
   ]
  },
  {
   "cell_type": "code",
   "execution_count": 62,
   "metadata": {},
   "outputs": [
    {
     "data": {
      "text/html": [
       "<div>\n",
       "<style scoped>\n",
       "    .dataframe tbody tr th:only-of-type {\n",
       "        vertical-align: middle;\n",
       "    }\n",
       "\n",
       "    .dataframe tbody tr th {\n",
       "        vertical-align: top;\n",
       "    }\n",
       "\n",
       "    .dataframe thead th {\n",
       "        text-align: right;\n",
       "    }\n",
       "</style>\n",
       "<table border=\"1\" class=\"dataframe\">\n",
       "  <thead>\n",
       "    <tr style=\"text-align: right;\">\n",
       "      <th></th>\n",
       "      <th>rocznik</th>\n",
       "      <th>rocznik2</th>\n",
       "      <th>rocznik3</th>\n",
       "    </tr>\n",
       "  </thead>\n",
       "  <tbody>\n",
       "    <tr>\n",
       "      <th>1</th>\n",
       "      <td>NV</td>\n",
       "      <td>2017.0</td>\n",
       "      <td>NaN</td>\n",
       "    </tr>\n",
       "    <tr>\n",
       "      <th>273</th>\n",
       "      <td>2018</td>\n",
       "      <td>2017.0</td>\n",
       "      <td>NaN</td>\n",
       "    </tr>\n",
       "    <tr>\n",
       "      <th>376</th>\n",
       "      <td>2017</td>\n",
       "      <td>2018.0</td>\n",
       "      <td>NaN</td>\n",
       "    </tr>\n",
       "    <tr>\n",
       "      <th>386</th>\n",
       "      <td>2021</td>\n",
       "      <td>2019.0</td>\n",
       "      <td>NaN</td>\n",
       "    </tr>\n",
       "    <tr>\n",
       "      <th>556</th>\n",
       "      <td>2021</td>\n",
       "      <td>2022.0</td>\n",
       "      <td>NaN</td>\n",
       "    </tr>\n",
       "    <tr>\n",
       "      <th>610</th>\n",
       "      <td>2020</td>\n",
       "      <td>2019.0</td>\n",
       "      <td>2017.0</td>\n",
       "    </tr>\n",
       "    <tr>\n",
       "      <th>719</th>\n",
       "      <td>2020</td>\n",
       "      <td>2021.0</td>\n",
       "      <td>NaN</td>\n",
       "    </tr>\n",
       "    <tr>\n",
       "      <th>1076</th>\n",
       "      <td>2018</td>\n",
       "      <td>2017.0</td>\n",
       "      <td>NaN</td>\n",
       "    </tr>\n",
       "    <tr>\n",
       "      <th>1084</th>\n",
       "      <td>2022</td>\n",
       "      <td>2020.0</td>\n",
       "      <td>NaN</td>\n",
       "    </tr>\n",
       "    <tr>\n",
       "      <th>1108</th>\n",
       "      <td>2019</td>\n",
       "      <td>2020.0</td>\n",
       "      <td>NaN</td>\n",
       "    </tr>\n",
       "    <tr>\n",
       "      <th>1232</th>\n",
       "      <td>2022</td>\n",
       "      <td>2021.0</td>\n",
       "      <td>NaN</td>\n",
       "    </tr>\n",
       "    <tr>\n",
       "      <th>1396</th>\n",
       "      <td>2018</td>\n",
       "      <td>2017.0</td>\n",
       "      <td>NaN</td>\n",
       "    </tr>\n",
       "    <tr>\n",
       "      <th>1493</th>\n",
       "      <td>2017</td>\n",
       "      <td>2018.0</td>\n",
       "      <td>NaN</td>\n",
       "    </tr>\n",
       "    <tr>\n",
       "      <th>1684</th>\n",
       "      <td>2016</td>\n",
       "      <td>2020.0</td>\n",
       "      <td>NaN</td>\n",
       "    </tr>\n",
       "    <tr>\n",
       "      <th>2158</th>\n",
       "      <td>2018</td>\n",
       "      <td>2017.0</td>\n",
       "      <td>NaN</td>\n",
       "    </tr>\n",
       "  </tbody>\n",
       "</table>\n",
       "</div>"
      ],
      "text/plain": [
       "     rocznik rocznik2 rocznik3\n",
       "1         NV   2017.0      NaN\n",
       "273     2018   2017.0      NaN\n",
       "376     2017   2018.0      NaN\n",
       "386     2021   2019.0      NaN\n",
       "556     2021   2022.0      NaN\n",
       "610     2020   2019.0   2017.0\n",
       "719     2020   2021.0      NaN\n",
       "1076    2018   2017.0      NaN\n",
       "1084    2022   2020.0      NaN\n",
       "1108    2019   2020.0      NaN\n",
       "1232    2022   2021.0      NaN\n",
       "1396    2018   2017.0      NaN\n",
       "1493    2017   2018.0      NaN\n",
       "1684    2016   2020.0      NaN\n",
       "2158    2018   2017.0      NaN"
      ]
     },
     "execution_count": 62,
     "metadata": {},
     "output_type": "execute_result"
    }
   ],
   "source": [
    "data[(data['rocznik2'].notnull()) | (data['rocznik3'].notnull())][[\"rocznik\", \"rocznik2\", \"rocznik3\"]]"
   ]
  },
  {
   "cell_type": "code",
   "execution_count": 63,
   "metadata": {},
   "outputs": [],
   "source": [
    "data['rocznik'] = data['rocznik'].replace('NV', np.nan)\n",
    "\n",
    "def choose_largest_vintage(row:pd.Series) -> pd.Series:\n",
    "    vintages = []\n",
    "    for vintage in row[[\"rocznik\", \"rocznik2\", \"rocznik3\"]].to_list():\n",
    "        try:\n",
    "            vintage = int(vintage)\n",
    "        except:\n",
    "            continue\n",
    "        vintages.append(vintage)\n",
    "    \n",
    "    row[\"rocznik\"] = np.nan if vintages == [] else max(vintages)\n",
    "\n",
    "    return row\n",
    "\n",
    "data = data.transform(choose_largest_vintage, axis=1)\n",
    "data.drop(['rocznik2', 'rocznik3'], axis=1, inplace=True)"
   ]
  },
  {
   "cell_type": "markdown",
   "metadata": {},
   "source": [
    "# Volume\n",
    "\n",
    "Related columns: `objętość`, `pojemność`"
   ]
  },
  {
   "cell_type": "code",
   "execution_count": 64,
   "metadata": {},
   "outputs": [],
   "source": [
    "def fill_empty_volume(row:pd.Series) -> pd.Series:\n",
    "    if not pd.isna(row[\"objętość\"]) and pd.isna(row[\"pojemność\"]):\n",
    "        row[\"pojemność\"] = row[\"objętość\"]\n",
    "    return row\n",
    "\n",
    "data = data.transform(fill_empty_volume, axis=1)\n",
    "data.drop([\"objętość\"], axis=1, inplace=True)\n",
    "\n",
    "def convert_volume(volume:str) -> float:\n",
    "    if not pd.isna(volume):\n",
    "        volume, unit = volume.split()\n",
    "        volume = volume.replace(\",\", \".\")\n",
    "        if unit == \"ml\":\n",
    "            volume = float(volume) / 1000\n",
    "        elif unit == \"L\":\n",
    "            volume = float(volume)\n",
    "    return volume\n",
    "\n",
    "data['pojemność (litry)'] = data['pojemność'].transform(convert_volume)\n",
    "data.drop([\"pojemność\"], axis=1, inplace=True)"
   ]
  },
  {
   "cell_type": "markdown",
   "metadata": {},
   "source": [
    "# Alcohol\n",
    "\n",
    "Related columns: `alkohol zawartość`, `zawartość alkoholu2`, `zawartość alkoholu`"
   ]
  },
  {
   "cell_type": "code",
   "execution_count": 71,
   "metadata": {},
   "outputs": [],
   "source": [
    "def fill_empty_alcohol(row:pd.Series) -> pd.Series:\n",
    "    if not pd.isna(row[\"alkohol zawartość\"]) and pd.isna(row[\"zawartość alkoholu\"]):\n",
    "        row[\"zawartość alkoholu\"] = row[\"alkohol zawartość\"]\n",
    "    return row\n",
    "\n",
    "data = data.transform(fill_empty_alcohol, axis=1)\n",
    "data.drop([\"alkohol zawartość\", \"zawartość alkoholu2\"], axis=1, inplace=True)\n",
    "\n",
    "def convert_alcohol(alcohol:str) -> float:\n",
    "    if pd.isna(alcohol):\n",
    "        return alcohol\n",
    "    \n",
    "    alcohol = alcohol.rstrip(\"%\").rstrip(\" \").replace(\",\", \".\")\n",
    "    return float(alcohol)\n",
    "\n",
    "data[\"zawartość alkoholu\"] = data[\"zawartość alkoholu\"].transform(convert_alcohol)"
   ]
  },
  {
   "cell_type": "markdown",
   "metadata": {},
   "source": [
    "# Serving temperature\n",
    "\n",
    "Related columns: `temperatura podawania`"
   ]
  },
  {
   "cell_type": "code",
   "execution_count": 75,
   "metadata": {},
   "outputs": [],
   "source": [
    "def convert_temperature(temp:str) -> str:\n",
    "    if pd.isnull(temp):\n",
    "        return temp\n",
    "    return temp.rstrip(\" st.C\")\n",
    "\n",
    "data['temperatura podawania'] = data['temperatura podawania'].transform(convert_temperature)"
   ]
  },
  {
   "cell_type": "markdown",
   "metadata": {},
   "source": [
    "# Color and kind\n",
    "\n",
    "Related columns: `rodzaj wina`, `rodzaj wina2`"
   ]
  },
  {
   "cell_type": "code",
   "execution_count": null,
   "metadata": {},
   "outputs": [],
   "source": [
    "color = ['białe', 'czerwone', 'różowe', 'pomarańczowe']\n",
    "kind = ['szampan', 'musujące', 'sherry', 'porto']\n",
    "\n",
    "kolor = []\n",
    "rodzaj = []\n",
    "\n",
    "for rodzaj1, rodzaj2 in zip(data['rodzaj wina'], data['rodzaj wina2']):\n",
    "    if rodzaj1 in color:\n",
    "        kolor.append(rodzaj1)\n",
    "    elif rodzaj2 in color:\n",
    "        kolor.append(rodzaj2)\n",
    "    else:\n",
    "        kolor.append(np.nan)\n",
    "\n",
    "    if rodzaj1 in kind:\n",
    "        rodzaj.append(rodzaj1)\n",
    "    elif rodzaj2 in kind:\n",
    "        rodzaj.append(rodzaj2)\n",
    "    else:\n",
    "        rodzaj.append(np.nan)\n",
    "\n",
    "data[['color', 'kind']] = pd.DataFrame({\n",
    "    'color': kolor,\n",
    "    'kind': rodzaj\n",
    "})\n",
    "data.drop(['rodzaj wina', 'rodzaj wina2'], axis=1, inplace=True)"
   ]
  },
  {
   "cell_type": "markdown",
   "metadata": {},
   "source": [
    "# Medals\n",
    "\n",
    "Related columns: `medale`, `medale2`, `medale3`"
   ]
  },
  {
   "cell_type": "code",
   "execution_count": 82,
   "metadata": {},
   "outputs": [],
   "source": [
    "cols = ['medale', 'medale2', 'medale3']\n",
    "\n",
    "medals = []\n",
    "\n",
    "for row in range(len(data)):\n",
    "    medal = ''\n",
    "    for value in data.loc[row, cols]:\n",
    "        if pd.isnull(value):\n",
    "            break\n",
    "\n",
    "        medal += value + ', '\n",
    "\n",
    "    if medal == '':\n",
    "        medals.append(np.nan)\n",
    "    else:\n",
    "        medals.append(medal[:-2])\n",
    "    \n",
    "data['medals'] = pd.DataFrame({'medals': medals})\n",
    "data.drop(cols, axis=1, inplace=True)"
   ]
  },
  {
   "cell_type": "markdown",
   "metadata": {},
   "source": [
    "# Wegan and Natural\n",
    "\n",
    "Related columns: `bio`, `bio2`, `bio3`, `czy winnica bio`, `wino wegańskie`"
   ]
  },
  {
   "cell_type": "code",
   "execution_count": 83,
   "metadata": {},
   "outputs": [],
   "source": [
    "wegan = []\n",
    "natural = []\n",
    "\n",
    "for bio, bio2, bio3, isBio, isWegan in zip(data['bio'], data['bio2'], data['bio3'], data['czy winnica bio'], data['wino wegańskie']):\n",
    "    if bio == 'weganskie' or \\\n",
    "       bio2 == 'weganskie' or \\\n",
    "       bio3 == 'weganskie' or \\\n",
    "       isWegan == 'tak':\n",
    "        wegan.append(True)\n",
    "    else:\n",
    "        wegan.append(False)\n",
    "\n",
    "    if (bio in ['organiczne', 'naturalne']) or \\\n",
    "       (bio2 in ['organiczne', 'naturalne']) or \\\n",
    "       (bio3 in ['organiczne', 'naturalne']) or \\\n",
    "       isBio == 'tak – uprawa ograniczna/naturalna':\n",
    "        natural.append(True)\n",
    "    else:\n",
    "        natural.append(False)\n",
    "\n",
    "bio = pd.DataFrame({\n",
    "    'wegan': wegan,\n",
    "    'natural': natural\n",
    "})\n",
    "\n",
    "data = pd.concat([data, bio], axis=1)\n",
    "data.drop(['bio', 'bio2', 'bio3', 'czy winnica bio', 'wino wegańskie'], axis=1, inplace=True)"
   ]
  },
  {
   "cell_type": "markdown",
   "metadata": {},
   "source": [
    "# Punctation\n",
    "\n",
    "Related columns: `guia penin`, `falstaff`, `james suckling`, `oceny prasy`, `wine spectator`"
   ]
  },
  {
   "cell_type": "code",
   "execution_count": 84,
   "metadata": {},
   "outputs": [],
   "source": [
    "punctation = []\n",
    "\n",
    "for i in range(len(data)):\n",
    "    points = []\n",
    "\n",
    "    if not pd.isnull(data.loc[i, 'guia penin']):\n",
    "        points.append(int(data.loc[i, 'guia penin'][:2]))\n",
    "\n",
    "    if not pd.isnull(data.loc[i, 'falstaff']):\n",
    "        points.append(int(data.loc[i, 'falstaff'][-3:]))\n",
    "\n",
    "    if not pd.isnull(data.loc[i, 'james suckling']):\n",
    "        points.append(int(data.loc[i, 'james suckling'][:2]))\n",
    "\n",
    "    if not pd.isnull(data.loc[i, 'oceny prasy']):\n",
    "        points.append(int(data.loc[i, 'oceny prasy'][-3:]))\n",
    "\n",
    "    if not pd.isnull(data.loc[i, 'wine spectator']):\n",
    "        points.append(int(data.loc[i, 'wine spectator'][:2]))\n",
    "\n",
    "    if len(points) > 0:\n",
    "        punctation.append(np.mean(points))\n",
    "    else:\n",
    "        punctation.append(np.nan)\n",
    "\n",
    "data['punctation'] = pd.Series(punctation).astype('float32')\n",
    "data.drop(['guia penin', 'falstaff', 'james suckling', 'oceny prasy', 'wine spectator'], axis=1, inplace=True)"
   ]
  },
  {
   "cell_type": "markdown",
   "metadata": {},
   "source": [
    "# Grapes\n",
    "\n",
    "Related columns: `grona`, `grona[2-13]`"
   ]
  },
  {
   "cell_type": "code",
   "execution_count": 85,
   "metadata": {},
   "outputs": [],
   "source": [
    "cols = ['grona'] + [f'grona{i}' for i in range(2, 14)]\n",
    "\n",
    "grapes = []\n",
    "\n",
    "for row in range(len(data)):\n",
    "    grape = ''\n",
    "    for value in data.loc[row, cols]:\n",
    "        if pd.isnull(value):\n",
    "            break\n",
    "\n",
    "        grape += value + ', '\n",
    "\n",
    "    if grape == '':\n",
    "        grapes.append(np.nan)\n",
    "    else:\n",
    "        grapes.append(grape[:-2])\n",
    "    \n",
    "data['grapes'] = pd.DataFrame({'grapes': grapes})\n",
    "data.drop(cols, axis=1, inplace=True)"
   ]
  },
  {
   "cell_type": "markdown",
   "metadata": {},
   "source": [
    "# Appellation\n",
    "\n",
    "Related columns: `apelacja`"
   ]
  },
  {
   "cell_type": "code",
   "execution_count": null,
   "metadata": {},
   "outputs": [],
   "source": [
    "data['apelacja'].replace('- brak apelacji', np.nan, inplace=True)"
   ]
  }
 ],
 "metadata": {
  "kernelspec": {
   "display_name": "Python 3",
   "language": "python",
   "name": "python3"
  },
  "language_info": {
   "codemirror_mode": {
    "name": "ipython",
    "version": 3
   },
   "file_extension": ".py",
   "mimetype": "text/x-python",
   "name": "python",
   "nbconvert_exporter": "python",
   "pygments_lexer": "ipython3",
   "version": "3.12.2"
  },
  "orig_nbformat": 4
 },
 "nbformat": 4,
 "nbformat_minor": 2
}
