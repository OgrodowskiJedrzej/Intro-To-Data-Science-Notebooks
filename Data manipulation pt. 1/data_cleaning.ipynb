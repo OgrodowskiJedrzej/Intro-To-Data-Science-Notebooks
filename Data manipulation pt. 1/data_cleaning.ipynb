{
 "cells": [
  {
   "cell_type": "markdown",
   "metadata": {},
   "source": [
    "# Libraries"
   ]
  },
  {
   "cell_type": "code",
   "execution_count": 1,
   "metadata": {},
   "outputs": [],
   "source": [
    "import numpy as np\n",
    "import pandas as pd"
   ]
  },
  {
   "cell_type": "markdown",
   "metadata": {},
   "source": [
    "# Data import"
   ]
  },
  {
   "cell_type": "code",
   "execution_count": 4,
   "metadata": {},
   "outputs": [],
   "source": [
    "data = pd.read_csv(\"./data/wina.pl_raw.csv\")"
   ]
  },
  {
   "cell_type": "markdown",
   "metadata": {},
   "source": [
    "# Data cleaning"
   ]
  },
  {
   "cell_type": "markdown",
   "metadata": {},
   "source": [
    "#### Basic informations about columns"
   ]
  },
  {
   "cell_type": "code",
   "execution_count": 9,
   "metadata": {},
   "outputs": [
    {
     "name": "stdout",
     "output_type": "stream",
     "text": [
      "<class 'pandas.core.frame.DataFrame'>\n",
      "RangeIndex: 2251 entries, 0 to 2250\n",
      "Data columns (total 52 columns):\n",
      " #   Column                  Non-Null Count  Dtype  \n",
      "---  ------                  --------------  -----  \n",
      " 0   alkohol zawartość       3 non-null      object \n",
      " 1   apelacja                1650 non-null   object \n",
      " 2   bio                     675 non-null    object \n",
      " 3   bio2                    129 non-null    object \n",
      " 4   bio3                    34 non-null     object \n",
      " 5   czy winnica bio         520 non-null    object \n",
      " 6   falstaff                84 non-null     object \n",
      " 7   grona                   2197 non-null   object \n",
      " 8   grona10                 1 non-null      object \n",
      " 9   grona11                 1 non-null      object \n",
      " 10  grona12                 1 non-null      object \n",
      " 11  grona13                 1 non-null      object \n",
      " 12  grona2                  607 non-null    object \n",
      " 13  grona3                  331 non-null    object \n",
      " 14  grona4                  94 non-null     object \n",
      " 15  grona5                  28 non-null     object \n",
      " 16  grona6                  9 non-null      object \n",
      " 17  grona7                  4 non-null      object \n",
      " 18  grona8                  2 non-null      object \n",
      " 19  grona9                  1 non-null      object \n",
      " 20  guia penin              30 non-null     object \n",
      " 21  ilość win               2 non-null      float64\n",
      " 22  james suckling          73 non-null     object \n",
      " 23  kraj                    2242 non-null   object \n",
      " 24  link                    2251 non-null   object \n",
      " 25  medale                  162 non-null    object \n",
      " 26  medale2                 29 non-null     object \n",
      " 27  medale3                 7 non-null      object \n",
      " 28  name                    2251 non-null   object \n",
      " 29  objętość                4 non-null      object \n",
      " 30  oceny prasy             173 non-null    object \n",
      " 31  pojemność               2178 non-null   object \n",
      " 32  price                   2251 non-null   object \n",
      " 33  producent               7 non-null      object \n",
      " 34  region                  2079 non-null   object \n",
      " 35  region2                 5 non-null      object \n",
      " 36  rocznik                 2030 non-null   object \n",
      " 37  rocznik2                15 non-null     float64\n",
      " 38  rocznik3                1 non-null      float64\n",
      " 39  rodzaj wina             2216 non-null   object \n",
      " 40  rodzaj wina2            38 non-null     object \n",
      " 41  smak                    2197 non-null   object \n",
      " 42  styl                    1808 non-null   object \n",
      " 43  temperatura podawania   1779 non-null   object \n",
      " 44  temperatura podawania2  1 non-null      object \n",
      " 45  wine spectator          87 non-null     object \n",
      " 46  winnica                 1231 non-null   object \n",
      " 47  wino koszerne           2 non-null      object \n",
      " 48  wino wegańskie          256 non-null    object \n",
      " 49  wysyłka w ciągu         2127 non-null   object \n",
      " 50  zawartość alkoholu      1722 non-null   object \n",
      " 51  zawartość alkoholu2     2 non-null      object \n",
      "dtypes: float64(3), object(49)\n",
      "memory usage: 914.6+ KB\n"
     ]
    }
   ],
   "source": [
    "data[sorted(data.columns)].info()"
   ]
  },
  {
   "cell_type": "markdown",
   "metadata": {},
   "source": [
    "#### Rejecting products which is not wines and unnecessary columns"
   ]
  },
  {
   "cell_type": "code",
   "execution_count": 17,
   "metadata": {},
   "outputs": [],
   "source": [
    "# removing rows\n",
    "data = data[~(data['name'] == 'Chateau ISH Sparkling Rose w puszce (bezalkoholowe)')]\n",
    "data = data[~(data['name'] == 'Chateau ISH Sparkling White w puszce (bezalkoholowe)')]\n",
    "data = data[data['ilość win'].isnull()]\n",
    "data.reset_index(inplace=True, drop=True)\n",
    "\n",
    "# removing columns\n",
    "data.drop(['ilość win', 'wino koszerne', 'producent', 'wysyłka w ciągu', 'temperatura podawania2'], axis=1, inplace=True)"
   ]
  },
  {
   "cell_type": "markdown",
   "metadata": {},
   "source": [
    "#### Name"
   ]
  },
  {
   "cell_type": "code",
   "execution_count": 21,
   "metadata": {},
   "outputs": [],
   "source": [
    "def isContainNumber(text: str) -> str:\n",
    "    '''\n",
    "    check there is a number in the text\n",
    "    '''\n",
    "    for digit in [str(i) for i in range(10)]:\n",
    "        if digit in list(text):\n",
    "            return True\n",
    "    return False\n",
    "\n",
    "namesContainingNumbers = []\n",
    "for i in range(len(data)):\n",
    "    for word in data.loc[i, 'name'].split(' '):\n",
    "        if isContainNumber(word):\n",
    "            namesContainingNumbers.append(i)\n",
    "            break"
   ]
  },
  {
   "cell_type": "code",
   "execution_count": 22,
   "metadata": {},
   "outputs": [
    {
     "name": "stdout",
     "output_type": "stream",
     "text": [
      "nan\tBarone Pizzini Naturae 2018 Franciacorta DOCG\n",
      "nan\tBarone Pizzini Rosé 2018 Franciacorta DOCG\n"
     ]
    }
   ],
   "source": [
    "# two names in dataset contains vintage of wine that was not included\n",
    "print(f\"{data.loc[172, 'rocznik']}\\t{data.loc[172, 'name']}\")\n",
    "print(f\"{data.loc[173, 'rocznik']}\\t{data.loc[173, 'name']}\")\n",
    "\n",
    "data.loc[172, 'rocznik'] = 2018\n",
    "data.loc[173, 'rocznik'] = 2018"
   ]
  },
  {
   "cell_type": "code",
   "execution_count": 23,
   "metadata": {},
   "outputs": [],
   "source": [
    "units = ['ml', 'Ml', 'ML', 'l', 'L', 'litrów', 'NV']\n",
    "digits = [str(i) for i in range(10)]\n",
    "\n",
    "# removing vintage and volume from wine names\n",
    "for i in namesContainingNumbers:\n",
    "    words = data.loc[i, 'name'].split(' ')\n",
    "    newName = ''\n",
    "    for j in range(len(words)):\n",
    "        isAdd = True\n",
    "\n",
    "        # if contain number\n",
    "        if isContainNumber(words[j]):\n",
    "            # if it is date\n",
    "            if len(list(words[j])) == 4:\n",
    "                isAdd = False\n",
    "            \n",
    "            # if it is volume\n",
    "            if j != len(words)-1:\n",
    "                if words[j+1] in units:\n",
    "                    isAdd = False\n",
    "\n",
    "            # if it is volume with unit\n",
    "            if words[j][-1:] in units[:3] or words[j][-2:] in units[3:5]:\n",
    "                isAdd = False\n",
    "\n",
    "        # if it is unit\n",
    "        if words[j] in units:\n",
    "            isAdd = False\n",
    "        \n",
    "        if isAdd:\n",
    "            newName += words[j] + ' '\n",
    "\n",
    "    data.loc[i, 'name'] = newName[:-1]"
   ]
  },
  {
   "cell_type": "markdown",
   "metadata": {},
   "source": [
    "#### Price"
   ]
  },
  {
   "cell_type": "code",
   "execution_count": 24,
   "metadata": {},
   "outputs": [],
   "source": [
    "# convert price into number data type\n",
    "data['price (PLN)'] = data['price'].transform(lambda text: text.replace(u'\\xa0', '')[:-3].replace(',', '.')).astype('float32')\n",
    "data.drop(['price'], axis=1, inplace=True)"
   ]
  },
  {
   "cell_type": "markdown",
   "metadata": {},
   "source": [
    "#### Region"
   ]
  },
  {
   "cell_type": "code",
   "execution_count": 25,
   "metadata": {},
   "outputs": [],
   "source": [
    "cols = ['region', 'region2']\n",
    "regions = []\n",
    "\n",
    "# connect two columns into one\n",
    "for row in range(len(data)):\n",
    "    region = ''\n",
    "    for value in data.loc[row, cols]:\n",
    "        if pd.isnull(value):\n",
    "            break\n",
    "\n",
    "        region += value + ', '\n",
    "\n",
    "    if region == '':\n",
    "        regions.append(np.nan)\n",
    "    else:\n",
    "        regions.append(region[:-2])\n",
    "    \n",
    "data['regionConnected'] = pd.DataFrame({'regionConnected': regions})\n",
    "data.drop(cols, axis=1, inplace=True)\n",
    "data.rename(columns={'regionConnected': 'region'}, inplace=True)"
   ]
  },
  {
   "cell_type": "markdown",
   "metadata": {},
   "source": [
    "#### Vintage"
   ]
  },
  {
   "cell_type": "code",
   "execution_count": 26,
   "metadata": {},
   "outputs": [],
   "source": [
    "# replace NV value into NAN\n",
    "data['rocznik'] = data['rocznik'].replace('NV', np.nan)\n",
    "\n",
    "# replace vintage between column\n",
    "index = data[(data['rocznik'].isnull()) & (data['rocznik2'].notnull())].index[0]\n",
    "data.loc[index, 'rocznik'] = data.loc[index, 'rocznik2']\n",
    "\n",
    "data.drop(['rocznik2', 'rocznik3'], axis=1, inplace=True)\n",
    "data.rename(columns={'rocznik': 'vintage'}, inplace=True)\n",
    "data['vintage'] = data['vintage'].astype('float32')"
   ]
  },
  {
   "cell_type": "markdown",
   "metadata": {},
   "source": [
    "#### Volume"
   ]
  },
  {
   "cell_type": "code",
   "execution_count": 27,
   "metadata": {},
   "outputs": [],
   "source": [
    "for i in data[data['objętość'].notnull()].index:\n",
    "    data.loc[i, 'pojemność'] = data.loc[i, 'objętość']\n",
    "\n",
    "data.drop(['objętość'], axis=1, inplace=True)\n",
    "\n",
    "def resetVolume(volume):\n",
    "    '''\n",
    "    convert volume to number data type\n",
    "    '''\n",
    "    if pd.isnull(volume):\n",
    "        return np.nan\n",
    "\n",
    "    unit = volume.split(' ')[1]\n",
    "    volume = volume.split(' ')[0].replace(',', '.')\n",
    "\n",
    "    if unit == 'ml':\n",
    "        return float(volume) / 1000\n",
    "    else:\n",
    "        return float(volume)\n",
    "\n",
    "data['volume (liters)'] = data['pojemność'].transform(resetVolume).astype('float32')\n",
    "data.drop(['pojemność'], axis=1, inplace=True)"
   ]
  },
  {
   "cell_type": "markdown",
   "metadata": {},
   "source": [
    "#### Alcohol"
   ]
  },
  {
   "cell_type": "code",
   "execution_count": 28,
   "metadata": {},
   "outputs": [],
   "source": [
    "# replace values from alkohol zawartość column into zawartość alkoholu\n",
    "for i in data[data['alkohol zawartość'].notnull()].index:\n",
    "    data.loc[i, 'zawartość alkoholu'] = data.loc[i, 'alkohol zawartość']\n",
    "\n",
    "data.drop(['alkohol zawartość', 'zawartość alkoholu2'], axis=1, inplace=True)\n",
    "\n",
    "def resetAlcohol(alco):\n",
    "    '''\n",
    "    convert alcohol value to number data type\n",
    "    '''\n",
    "    if pd.isnull(alco):\n",
    "        return np.nan\n",
    "    return alco.replace(',', '.')[:-1]\n",
    "\n",
    "data['alcohol (%)'] = data['zawartość alkoholu'].transform(resetAlcohol).astype('float32')\n",
    "data.drop(['zawartość alkoholu'], axis=1, inplace=True)"
   ]
  },
  {
   "cell_type": "markdown",
   "metadata": {},
   "source": [
    "#### Serving temperature"
   ]
  },
  {
   "cell_type": "code",
   "execution_count": 29,
   "metadata": {},
   "outputs": [],
   "source": [
    "def resetTemperature(temp):\n",
    "    '''\n",
    "    removing C sign from serving temperature (C) column\n",
    "    '''\n",
    "    if pd.isnull(temp):\n",
    "        return np.nan\n",
    "    return temp.replace(' st.C', '')\n",
    "\n",
    "data['serving temperature (C)'] = data['temperatura podawania'].transform(resetTemperature)\n",
    "data.drop(['temperatura podawania'], axis=1, inplace=True)"
   ]
  },
  {
   "cell_type": "markdown",
   "metadata": {},
   "source": [
    "#### Color and kind"
   ]
  },
  {
   "cell_type": "code",
   "execution_count": 30,
   "metadata": {},
   "outputs": [],
   "source": [
    "color = ['białe', 'czerwone', 'różowe', 'pomarańczowe']\n",
    "kind = ['szampan', 'musujące', 'sherry', 'porto']\n",
    "\n",
    "kolor = []\n",
    "rodzaj = []\n",
    "\n",
    "for rodzaj1, rodzaj2 in zip(data['rodzaj wina'], data['rodzaj wina2']):\n",
    "    if rodzaj1 in color:\n",
    "        kolor.append(rodzaj1)\n",
    "    elif rodzaj2 in color:\n",
    "        kolor.append(rodzaj2)\n",
    "    else:\n",
    "        kolor.append(np.nan)\n",
    "\n",
    "    if rodzaj1 in kind:\n",
    "        rodzaj.append(rodzaj1)\n",
    "    elif rodzaj2 in kind:\n",
    "        rodzaj.append(rodzaj2)\n",
    "    else:\n",
    "        rodzaj.append(np.nan)\n",
    "\n",
    "data[['color', 'kind']] = pd.DataFrame({\n",
    "    'color': kolor,\n",
    "    'kind': rodzaj\n",
    "})\n",
    "data.drop(['rodzaj wina', 'rodzaj wina2'], axis=1, inplace=True)"
   ]
  },
  {
   "cell_type": "markdown",
   "metadata": {},
   "source": [
    "#### Medals"
   ]
  },
  {
   "cell_type": "code",
   "execution_count": 31,
   "metadata": {},
   "outputs": [],
   "source": [
    "cols = ['medale', 'medale2', 'medale3']\n",
    "\n",
    "medals = []\n",
    "\n",
    "for row in range(len(data)):\n",
    "    medal = ''\n",
    "    for value in data.loc[row, cols]:\n",
    "        if pd.isnull(value):\n",
    "            break\n",
    "\n",
    "        medal += value + ', '\n",
    "\n",
    "    if medal == '':\n",
    "        medals.append(np.nan)\n",
    "    else:\n",
    "        medals.append(medal[:-2])\n",
    "    \n",
    "data['medals'] = pd.DataFrame({'medals': medals})\n",
    "data.drop(cols, axis=1, inplace=True)"
   ]
  },
  {
   "cell_type": "markdown",
   "metadata": {},
   "source": [
    "#### Wegan and Natural"
   ]
  },
  {
   "cell_type": "code",
   "execution_count": 32,
   "metadata": {},
   "outputs": [],
   "source": [
    "wegan = []\n",
    "natural = []\n",
    "\n",
    "for bio, bio2, bio3, isBio, isWegan in zip(data['bio'], data['bio2'], data['bio3'], data['czy winnica bio'], data['wino wegańskie']):\n",
    "    if bio == 'weganskie' or \\\n",
    "       bio2 == 'weganskie' or \\\n",
    "       bio3 == 'weganskie' or \\\n",
    "       isWegan == 'tak':\n",
    "        wegan.append(True)\n",
    "    else:\n",
    "        wegan.append(False)\n",
    "\n",
    "    if (bio in ['organiczne', 'naturalne']) or \\\n",
    "       (bio2 in ['organiczne', 'naturalne']) or \\\n",
    "       (bio3 in ['organiczne', 'naturalne']) or \\\n",
    "       isBio == 'tak – uprawa ograniczna/naturalna':\n",
    "        natural.append(True)\n",
    "    else:\n",
    "        natural.append(False)\n",
    "\n",
    "bio = pd.DataFrame({\n",
    "    'wegan': wegan,\n",
    "    'natural': natural\n",
    "})\n",
    "\n",
    "data = pd.concat([data, bio], axis=1)\n",
    "data.drop(['bio', 'bio2', 'bio3', 'czy winnica bio', 'wino wegańskie'], axis=1, inplace=True)"
   ]
  },
  {
   "cell_type": "markdown",
   "metadata": {},
   "source": [
    "#### Punctation"
   ]
  },
  {
   "cell_type": "code",
   "execution_count": 33,
   "metadata": {},
   "outputs": [],
   "source": [
    "punctation = []\n",
    "\n",
    "for i in range(len(data)):\n",
    "    points = []\n",
    "\n",
    "    if not pd.isnull(data.loc[i, 'guia penin']):\n",
    "        points.append(int(data.loc[i, 'guia penin'][:2]))\n",
    "\n",
    "    if not pd.isnull(data.loc[i, 'falstaff']):\n",
    "        points.append(int(data.loc[i, 'falstaff'][-3:]))\n",
    "\n",
    "    if not pd.isnull(data.loc[i, 'james suckling']):\n",
    "        points.append(int(data.loc[i, 'james suckling'][:2]))\n",
    "\n",
    "    if not pd.isnull(data.loc[i, 'oceny prasy']):\n",
    "        points.append(int(data.loc[i, 'oceny prasy'][-3:]))\n",
    "\n",
    "    if not pd.isnull(data.loc[i, 'wine spectator']):\n",
    "        points.append(int(data.loc[i, 'wine spectator'][:2]))\n",
    "\n",
    "    if len(points) > 0:\n",
    "        punctation.append(np.mean(points))\n",
    "    else:\n",
    "        punctation.append(np.nan)\n",
    "\n",
    "data['punctation'] = pd.Series(punctation).astype('float32')\n",
    "data.drop(['guia penin', 'falstaff', 'james suckling', 'oceny prasy', 'wine spectator'], axis=1, inplace=True)"
   ]
  },
  {
   "cell_type": "markdown",
   "metadata": {},
   "source": [
    "#### Grapes"
   ]
  },
  {
   "cell_type": "code",
   "execution_count": 34,
   "metadata": {},
   "outputs": [],
   "source": [
    "cols = ['grona'] + [f'grona{i}' for i in range(2, 14)]\n",
    "\n",
    "grapes = []\n",
    "\n",
    "for row in range(len(data)):\n",
    "    grape = ''\n",
    "    for value in data.loc[row, cols]:\n",
    "        if pd.isnull(value):\n",
    "            break\n",
    "\n",
    "        grape += value + ', '\n",
    "\n",
    "    if grape == '':\n",
    "        grapes.append(np.nan)\n",
    "    else:\n",
    "        grapes.append(grape[:-2])\n",
    "    \n",
    "data['grapes'] = pd.DataFrame({'grapes': grapes})\n",
    "data.drop(cols, axis=1, inplace=True)"
   ]
  },
  {
   "cell_type": "markdown",
   "metadata": {},
   "source": [
    "#### Appellation"
   ]
  },
  {
   "cell_type": "code",
   "execution_count": 35,
   "metadata": {},
   "outputs": [],
   "source": [
    "data['apelacja'].replace('- brak apelacji', np.nan, inplace=True)"
   ]
  },
  {
   "cell_type": "markdown",
   "metadata": {},
   "source": [
    "#### Translating column names and changing order of columns"
   ]
  },
  {
   "cell_type": "code",
   "execution_count": 36,
   "metadata": {},
   "outputs": [],
   "source": [
    "# translation\n",
    "data = data.rename(columns={\n",
    "    'kraj': 'country',\n",
    "    'apelacja': 'appellation',\n",
    "    'winnica': 'vineyard',\n",
    "    'smak': 'taste',\n",
    "    'styl': 'style'\n",
    "})\n",
    "\n",
    "# change order\n",
    "data = data[[\n",
    "    'name',\n",
    "    'link',\n",
    "    'price (PLN)',\n",
    "    'country',\n",
    "    'region',\n",
    "    'appellation',\n",
    "    'vineyard',\n",
    "    'vintage',\n",
    "    'volume (liters)',\n",
    "    'alcohol (%)',\n",
    "    'serving temperature (C)',\n",
    "    'color',\n",
    "    'kind',\n",
    "    'taste',\n",
    "    'style',\n",
    "    'medals',\n",
    "    'wegan',\n",
    "    'natural',\n",
    "    'punctation',\n",
    "    'grapes'\n",
    "]]\n",
    "\n",
    "data.to_csv('wina.pl_clean.csv', index=False)"
   ]
  }
 ],
 "metadata": {
  "kernelspec": {
   "display_name": "Python 3",
   "language": "python",
   "name": "python3"
  },
  "language_info": {
   "codemirror_mode": {
    "name": "ipython",
    "version": 3
   },
   "file_extension": ".py",
   "mimetype": "text/x-python",
   "name": "python",
   "nbconvert_exporter": "python",
   "pygments_lexer": "ipython3",
   "version": "3.12.2"
  },
  "orig_nbformat": 4
 },
 "nbformat": 4,
 "nbformat_minor": 2
}
