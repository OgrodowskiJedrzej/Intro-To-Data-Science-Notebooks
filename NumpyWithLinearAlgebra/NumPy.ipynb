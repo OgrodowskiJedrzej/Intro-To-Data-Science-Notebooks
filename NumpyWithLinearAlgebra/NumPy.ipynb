{
 "cells": [
  {
   "cell_type": "markdown",
   "metadata": {},
   "source": [
    "This notebook contains all essential NumPy functions discussed on Intro to Data Science section.\n",
    "For more detailed tutorial, visit note.nkmk.me.\n",
    "\n",
    "Have fun!"
   ]
  },
  {
   "cell_type": "code",
   "execution_count": 41,
   "metadata": {},
   "outputs": [],
   "source": [
    "import numpy as np"
   ]
  },
  {
   "cell_type": "markdown",
   "metadata": {},
   "source": [
    "# Arrays"
   ]
  },
  {
   "cell_type": "markdown",
   "metadata": {},
   "source": [
    "#### Create array"
   ]
  },
  {
   "cell_type": "code",
   "execution_count": 42,
   "metadata": {},
   "outputs": [
    {
     "name": "stdout",
     "output_type": "stream",
     "text": [
      "Our 1-Dimensional array: \n",
      " [1 2 3]\n",
      "Our 2-Dimensional array: \n",
      " [[1 2 3]\n",
      " [4 5 6]]\n"
     ]
    }
   ],
   "source": [
    "arr1D = np.array([1,2,3])\n",
    "# [1 2 3]\n",
    "print(f\"Our 1-Dimensional array: \\n {arr1D}\")\n",
    "\n",
    "arr2D = np.array([[1, 2, 3], [4, 5, 6]])\n",
    "#  [[1 2 3]\n",
    "#   [4 5 6]]\n",
    "print(f\"Our 2-Dimensional array: \\n {arr2D}\")"
   ]
  },
  {
   "cell_type": "markdown",
   "metadata": {},
   "source": [
    "##### Loading array"
   ]
  },
  {
   "cell_type": "code",
   "execution_count": 43,
   "metadata": {},
   "outputs": [
    {
     "name": "stdout",
     "output_type": "stream",
     "text": [
      "Loaded array: [1. 2. 3.]\n"
     ]
    }
   ],
   "source": [
    "loadedArray = np.loadtxt('data/array.txt')\n",
    "# [1. 2. 3.]\n",
    "print(f\"Loaded array: {loadedArray}\")"
   ]
  },
  {
   "cell_type": "markdown",
   "metadata": {},
   "source": [
    "##### Saving array"
   ]
  },
  {
   "cell_type": "code",
   "execution_count": 44,
   "metadata": {},
   "outputs": [],
   "source": [
    "np.savetxt('data/array.txt', arr1D)"
   ]
  },
  {
   "cell_type": "markdown",
   "metadata": {},
   "source": [
    "#### Check dimension\n",
    "You can get the number of dimensions of a NumPy array"
   ]
  },
  {
   "cell_type": "code",
   "execution_count": 45,
   "metadata": {},
   "outputs": [
    {
     "name": "stdout",
     "output_type": "stream",
     "text": [
      "Dimension of our first array: 1\n",
      "And out second array: 2\n"
     ]
    }
   ],
   "source": [
    "numberOfDimensions1Darray = arr1D.ndim\n",
    "# 1\n",
    "print(f\"Dimension of our first array: {numberOfDimensions1Darray}\")\n",
    "\n",
    "numberOfDimensions2Darray = arr2D.ndim\n",
    "# 2\n",
    "print(f\"And out second array: {arr2D.ndim}\")"
   ]
  },
  {
   "cell_type": "markdown",
   "metadata": {},
   "source": [
    "#### Check shape\n",
    "You can get the shape, i.e., the length of each dimension"
   ]
  },
  {
   "cell_type": "code",
   "execution_count": 46,
   "metadata": {},
   "outputs": [
    {
     "name": "stdout",
     "output_type": "stream",
     "text": [
      "Shape of our first array: (3,)\n",
      "Shape of our second array: (2, 3)\n"
     ]
    }
   ],
   "source": [
    "shapeOf1Darr = arr1D.shape\n",
    "# (3,)\n",
    "print(f\"Shape of our first array: {shapeOf1Darr}\")\n",
    "\n",
    "shapeOf2Darr = arr2D.shape\n",
    "# (3,2)\n",
    "print(f\"Shape of our second array: {shapeOf2Darr}\")"
   ]
  },
  {
   "cell_type": "markdown",
   "metadata": {},
   "source": [
    "##### We can reshape array"
   ]
  },
  {
   "cell_type": "code",
   "execution_count": 47,
   "metadata": {},
   "outputs": [
    {
     "name": "stdout",
     "output_type": "stream",
     "text": [
      "Reshaped array: [1 2 3 4 5 6]\n"
     ]
    }
   ],
   "source": [
    "reshapedArr = arr2D.reshape(6,)\n",
    "# [1 2 3 4 5 6]\n",
    "print(f\"Reshaped array: {reshapedArr}\")"
   ]
  },
  {
   "cell_type": "markdown",
   "metadata": {},
   "source": [
    "##### We can also unpack the returned tuple"
   ]
  },
  {
   "cell_type": "code",
   "execution_count": 48,
   "metadata": {},
   "outputs": [
    {
     "name": "stdout",
     "output_type": "stream",
     "text": [
      "Number of rows (first number in tuple): 2\n",
      "Number of columns (second number in tuple): 3\n"
     ]
    }
   ],
   "source": [
    "row, col = arr2D.shape\n",
    "print(f\"Number of rows (first number in tuple): {row}\")\n",
    "print(f\"Number of columns (second number in tuple): {col}\")"
   ]
  },
  {
   "cell_type": "markdown",
   "metadata": {},
   "source": [
    "#### Accesing array elements"
   ]
  },
  {
   "cell_type": "code",
   "execution_count": 49,
   "metadata": {},
   "outputs": [
    {
     "name": "stdout",
     "output_type": "stream",
     "text": [
      "Access first row: [1 2 3]\n",
      "Access element at index [0][0]: 1\n"
     ]
    }
   ],
   "source": [
    "firstRowOf2Darr = arr2D[0]\n",
    "# [1 2 3]\n",
    "print(f\"Access first row: {firstRowOf2Darr}\")\n",
    "\n",
    "firstElementOf2Darr = arr2D[0][0]\n",
    "# 1\n",
    "print(f\"Access element at index [0][0]: {firstElementOf2Darr}\")"
   ]
  },
  {
   "cell_type": "markdown",
   "metadata": {},
   "source": [
    "#### Array element types\n",
    "We can check data type of array"
   ]
  },
  {
   "cell_type": "code",
   "execution_count": 50,
   "metadata": {},
   "outputs": [
    {
     "name": "stdout",
     "output_type": "stream",
     "text": [
      "Data type of array: int64\n"
     ]
    }
   ],
   "source": [
    "typeOfArr = arr1D.dtype\n",
    "# int64\n",
    "print(f\"Data type of array: {typeOfArr}\")"
   ]
  },
  {
   "cell_type": "markdown",
   "metadata": {},
   "source": [
    "We can specify data type"
   ]
  },
  {
   "cell_type": "code",
   "execution_count": 51,
   "metadata": {},
   "outputs": [
    {
     "name": "stdout",
     "output_type": "stream",
     "text": [
      "Data type of array: float64\n"
     ]
    }
   ],
   "source": [
    "arrayWithFloats = np.array([1,2,3], dtype=float)\n",
    "# float64\n",
    "print(f\"Data type of array: {arrayWithFloats.dtype}\")"
   ]
  },
  {
   "cell_type": "markdown",
   "metadata": {},
   "source": [
    "We can change type"
   ]
  },
  {
   "cell_type": "code",
   "execution_count": 52,
   "metadata": {},
   "outputs": [
    {
     "name": "stdout",
     "output_type": "stream",
     "text": [
      "Data type of array: int64\n"
     ]
    }
   ],
   "source": [
    "newDataTypeArr = arrayWithFloats.astype(int)\n",
    "# int64\n",
    "print(f\"Data type of array: {newDataTypeArr.dtype}\")"
   ]
  },
  {
   "cell_type": "markdown",
   "metadata": {},
   "source": [
    "#### Generate array\n",
    "\n",
    "##### Generate array with intervals."
   ]
  },
  {
   "cell_type": "markdown",
   "metadata": {},
   "source": [
    "With arange, we specify interval.\n",
    "\n",
    "np.arange(stop)\n",
    "\n",
    "    0 <= n < stop with an interval of 1\n",
    "\n",
    "\n",
    "np.arange(start, stop)\n",
    "\n",
    "    start <= n < stop with an interval of 1\n",
    "\n",
    "\n",
    "np.arange(start, stop, step)\n",
    "\n",
    "    start <= n < stop with an interval of step"
   ]
  },
  {
   "cell_type": "code",
   "execution_count": 53,
   "metadata": {},
   "outputs": [
    {
     "name": "stdout",
     "output_type": "stream",
     "text": [
      "Generated array: [1 2 3 4]\n"
     ]
    }
   ],
   "source": [
    "start = 1\n",
    "stop = 5\n",
    "step = 1\n",
    "\n",
    "arr = np.arange(start, stop, step)\n",
    "# 1 2 3 4\n",
    "print(f\"Generated array: {arr}\")"
   ]
  },
  {
   "cell_type": "markdown",
   "metadata": {},
   "source": [
    "With linespace, we specify number of elements."
   ]
  },
  {
   "cell_type": "code",
   "execution_count": 54,
   "metadata": {},
   "outputs": [
    {
     "name": "stdout",
     "output_type": "stream",
     "text": [
      "Generated array: [ 1.    3.25  5.5   7.75 10.  ]\n"
     ]
    }
   ],
   "source": [
    "start = 1\n",
    "stop = 10\n",
    "numberOfElements = 5\n",
    "\n",
    "arr = np.linspace(start, stop, numberOfElements)\n",
    "#\n",
    "print(f\"Generated array: {arr}\")"
   ]
  },
  {
   "cell_type": "markdown",
   "metadata": {},
   "source": [
    "##### Generating array with same values."
   ]
  },
  {
   "cell_type": "code",
   "execution_count": 55,
   "metadata": {},
   "outputs": [
    {
     "name": "stdout",
     "output_type": "stream",
     "text": [
      "Matrix with zero values: \n",
      " [[0 0 0]\n",
      " [0 0 0]]\n"
     ]
    }
   ],
   "source": [
    "zeroMatrix = np.zeros((2,3),dtype=int)\n",
    "# [[0 0 0]\n",
    "#  [0 0 0]]\n",
    "print(f\"Matrix with zero values: \\n {zeroMatrix}\")"
   ]
  },
  {
   "cell_type": "code",
   "execution_count": 56,
   "metadata": {},
   "outputs": [
    {
     "name": "stdout",
     "output_type": "stream",
     "text": [
      "Matrix with ones: \n",
      " [[1 1 1]\n",
      " [1 1 1]]\n"
     ]
    }
   ],
   "source": [
    "onesMatrix = np.ones((2, 3), dtype=int)\n",
    "# [[1 1 1]\n",
    "#  [1 1 1]]\n",
    "print(f\"Matrix with ones: \\n {onesMatrix}\")"
   ]
  },
  {
   "cell_type": "code",
   "execution_count": 57,
   "metadata": {},
   "outputs": [
    {
     "name": "stdout",
     "output_type": "stream",
     "text": [
      "Matrix with given number: \n",
      " [[0.5 0.5 0.5]\n",
      " [0.5 0.5 0.5]]\n"
     ]
    }
   ],
   "source": [
    "fullMatrix = np.full((2,3), 0.5)\n",
    "# [[0.5 0.5 0.5]\n",
    "#  [0.5 0.5 0.5]]\n",
    "print(f\"Matrix with given number: \\n {fullMatrix}\")"
   ]
  },
  {
   "cell_type": "markdown",
   "metadata": {},
   "source": [
    "To create an array filled with 0 or 1 that has the same shape and data type as another array can use np.zeros_like()\n",
    "or ones_like()."
   ]
  },
  {
   "cell_type": "markdown",
   "metadata": {},
   "source": [
    "##### We can generate random values. It is handy while prototyping. Here is basic random array implementation."
   ]
  },
  {
   "cell_type": "code",
   "execution_count": 58,
   "metadata": {},
   "outputs": [
    {
     "name": "stdout",
     "output_type": "stream",
     "text": [
      "Random value: \n",
      " [[0.97669977 0.38019574 0.92324623]\n",
      " [0.26169242 0.31909706 0.11809123]]\n"
     ]
    }
   ],
   "source": [
    "seed = 1234                             # We can specify seed for pseudorandom algorithm\n",
    "rng = np.random.default_rng(seed)       # We create Generator instance\n",
    "randomVal = rng.random((2, 3))          # Create 2x3 matrix with random values\n",
    "#[[0.97669977 0.38019574 0.92324623]\n",
    "# [0.26169242 0.31909706 0.11809123]]\n",
    "print(f\"Random value: \\n {randomVal}\")"
   ]
  },
  {
   "cell_type": "markdown",
   "metadata": {},
   "source": [
    "##### We can even generate distributed numbers \n",
    "\n",
    "Below is example of normally distributed array.\n",
    "https://en.wikipedia.org/wiki/Normal_distribution"
   ]
  },
  {
   "cell_type": "code",
   "execution_count": 59,
   "metadata": {},
   "outputs": [
    {
     "data": {
      "image/png": "[encoded data removed]",
      "text/plain": [
       "<Figure size 640x480 with 1 Axes>"
      ]
     },
     "metadata": {},
     "output_type": "display_data"
    }
   ],
   "source": [
    "mean = 0\n",
    "std = 0.3\n",
    "\n",
    "normalDistributed = np.random.normal(mean, std, 1000)\n",
    "\n",
    "# Visualization of generated numbers\n",
    "import matplotlib.pyplot as plt\n",
    "count, bins, ignored = plt.hist(normalDistributed, 30, density=True)\n",
    "plt.plot(bins, 1/(std * np.sqrt(2 * np.pi)) * np.exp( - (bins - mean)**2 / (2 * std**2) ), linewidth=2, color='r')\n",
    "plt.show()"
   ]
  },
  {
   "cell_type": "markdown",
   "metadata": {},
   "source": [
    "More for random: https://note.nkmk.me/en/python-numpy-random/\n",
    "\n",
    "More for distributions: https://numpy.org/doc/1.16/reference/routines.random.html"
   ]
  },
  {
   "cell_type": "markdown",
   "metadata": {},
   "source": [
    "#### Manipulate arrays\n",
    "\n",
    "We can replace elements of NumPy array that satisfy given conditions."
   ]
  },
  {
   "cell_type": "code",
   "execution_count": 60,
   "metadata": {},
   "outputs": [
    {
     "name": "stdout",
     "output_type": "stream",
     "text": [
      "Manipulated array, where we change numbers less than 4 to 0 and to 1 otherwise:\n",
      " [[0 0 0]\n",
      " [1 1 1]]\n"
     ]
    }
   ],
   "source": [
    "manipulatedArr = np.where(arr2D < 4,0,1)\n",
    "# [[0 0 0]\n",
    "#  [1 1 1]]\n",
    "print(f\"Manipulated array, where we change numbers less than 4 to 0 and to 1 otherwise:\\n {manipulatedArr}\")"
   ]
  },
  {
   "cell_type": "markdown",
   "metadata": {},
   "source": [
    "Multiple conditions are possible by enclosing each condition in () and using & or |."
   ]
  },
  {
   "cell_type": "markdown",
   "metadata": {},
   "source": [
    "##### Transpose array (matrix). Often used in ML algorithms where parameters are stored in vectors."
   ]
  },
  {
   "cell_type": "code",
   "execution_count": 61,
   "metadata": {},
   "outputs": [
    {
     "name": "stdout",
     "output_type": "stream",
     "text": [
      "Our base matrix: \n",
      " [[1 2 3]\n",
      " [4 5 6]]\n",
      "Transposed matrix: \n",
      " [[1 4]\n",
      " [2 5]\n",
      " [3 6]]\n"
     ]
    }
   ],
   "source": [
    "print(f\"Our base matrix: \\n {arr2D}\")\n",
    "\n",
    "arrTransposed = arr2D.T\n",
    "# [[1 4]\n",
    "#  [2 5]\n",
    "#  [3 6]]\n",
    "print(f\"Transposed matrix: \\n {arrTransposed}\")"
   ]
  },
  {
   "cell_type": "markdown",
   "metadata": {},
   "source": [
    "#### Built in functions\n",
    "\n",
    "Below is couple of most used, however NumPy has variety of diffrent useful tools and functions. \n",
    "\n",
    "Check out: https://numpy.org/doc/stable/reference/routines.math.html"
   ]
  },
  {
   "cell_type": "markdown",
   "metadata": {},
   "source": [
    "##### np.sum()\n",
    "\n",
    "axis=0 sum for each column\n",
    "\n",
    "axis=1 sum for each row\n",
    "\n",
    "Read more about axis: https://note.nkmk.me/en/python-numpy-axis-keepdims/"
   ]
  },
  {
   "cell_type": "code",
   "execution_count": 62,
   "metadata": {},
   "outputs": [
    {
     "name": "stdout",
     "output_type": "stream",
     "text": [
      "Remind how base matrix looks like: \n",
      " [[1 2 3]\n",
      " [4 5 6]] \n",
      "\n",
      "Summed columns: [5 7 9]\n",
      "Summed columns: [ 6 15]\n",
      "Summed entire matrix: 21\n"
     ]
    }
   ],
   "source": [
    "print(f\"Remind how base matrix looks like: \\n {arr2D} \\n\")\n",
    "\n",
    "sumOfColumns = np.sum(arr2D, axis=0)\n",
    "# [5 7 9]\n",
    "print(f\"Summed columns: {sumOfColumns}\")\n",
    "\n",
    "sumOfRows= np.sum(arr2D, axis=1)\n",
    "# [6 15]\n",
    "print(f\"Summed columns: {sumOfRows}\")\n",
    "\n",
    "sumEntireArr = np.sum(arr2D)\n",
    "# 21\n",
    "print(f\"Summed entire matrix: {sumEntireArr}\")"
   ]
  },
  {
   "cell_type": "markdown",
   "metadata": {},
   "source": [
    "##### np.mean()"
   ]
  },
  {
   "cell_type": "code",
   "execution_count": 63,
   "metadata": {},
   "outputs": [
    {
     "name": "stdout",
     "output_type": "stream",
     "text": [
      "Mean of columns: [2.5 3.5 4.5]\n",
      "Mean of columns: [2. 5.]\n",
      "Mean from entire matrix: 3.5\n"
     ]
    }
   ],
   "source": [
    "meanOfColumns = np.mean(arr2D, axis=0)\n",
    "# [2.5 3.5 4.5]\n",
    "print(f\"Mean of columns: {meanOfColumns}\")\n",
    "\n",
    "meanOfRows = np.mean(arr2D, axis=1)\n",
    "# [2.5 3.5 4.5]\n",
    "print(f\"Mean of columns: {meanOfRows}\")\n",
    "\n",
    "meanOfEntireArr = np.mean(arr2D)\n",
    "# [2.5 3.5 4.5]\n",
    "print(f\"Mean from entire matrix: {meanOfEntireArr}\")"
   ]
  },
  {
   "cell_type": "markdown",
   "metadata": {},
   "source": [
    "##### np.max() and np.min()\n",
    "\n",
    "Specifying the axis argument changes this behavior to return the maximum and minimum values for each column or row."
   ]
  },
  {
   "cell_type": "code",
   "execution_count": 64,
   "metadata": {},
   "outputs": [
    {
     "name": "stdout",
     "output_type": "stream",
     "text": [
      "Max of each column: [4 5 6]\n",
      "Max of each row: [3 6]\n",
      "Max of entire array: 6\n"
     ]
    }
   ],
   "source": [
    "maxOfEachColumn = np.max(arr2D, axis=0)\n",
    "# [4 5 6]\n",
    "print(f\"Max of each column: {maxOfEachColumn}\")\n",
    "\n",
    "maxOfEachRow = np.max(arr2D, axis=1)\n",
    "# [3 6]\n",
    "print(f\"Max of each row: {maxOfEachRow}\")\n",
    "\n",
    "maxOfEntireArr = np.max(arr2D)\n",
    "# 6\n",
    "print(f\"Max of entire array: {maxOfEntireArr}\")"
   ]
  },
  {
   "cell_type": "markdown",
   "metadata": {},
   "source": [
    "##### Standard deviation: np.std()\n",
    "\n",
    "##### Variance: np.var()"
   ]
  },
  {
   "cell_type": "code",
   "execution_count": 65,
   "metadata": {},
   "outputs": [
    {
     "name": "stdout",
     "output_type": "stream",
     "text": [
      "Std of each column: [1.5 1.5 1.5]\n",
      "Std of each row: [0.81649658 0.81649658]\n",
      "Std of entire arr: 1.707825127659933\n"
     ]
    }
   ],
   "source": [
    "stdOfEachColumn = np.std(arr2D, axis=0)\n",
    "# [1.5 1.5 1.5]\n",
    "print(f\"Std of each column: {stdOfEachColumn}\")\n",
    "\n",
    "stdOfEachRow = np.std(arr2D, axis=1)\n",
    "# [0.81649658 0.81649658]\n",
    "print(f\"Std of each row: {stdOfEachRow}\")\n",
    "\n",
    "stdOfEntireArr = np.std(arr2D)\n",
    "# 1.707825127659933\n",
    "print(f\"Std of entire arr: {stdOfEntireArr}\")"
   ]
  },
  {
   "cell_type": "code",
   "execution_count": 66,
   "metadata": {},
   "outputs": [
    {
     "name": "stdout",
     "output_type": "stream",
     "text": [
      "Variance of each column: [2.25 2.25 2.25]\n",
      "Variance of each row: [0.66666667 0.66666667]\n",
      "Variance of entire arr: 2.9166666666666665\n"
     ]
    }
   ],
   "source": [
    "varOfEachColumn = np.var(arr2D, axis=0)\n",
    "# [2.25 2.25 2.25]\n",
    "print(f\"Variance of each column: {varOfEachColumn}\")\n",
    "\n",
    "varOfEachRow = np.var(arr2D, axis=1)\n",
    "# [0.66666667 0.66666667]\n",
    "print(f\"Variance of each row: {varOfEachRow}\")\n",
    "\n",
    "varOfEntireArr = np.var(arr2D)\n",
    "# 2.9166666666666665\n",
    "print(f\"Variance of entire arr: {varOfEntireArr}\")"
   ]
  },
  {
   "cell_type": "markdown",
   "metadata": {},
   "source": [
    "##### Round values: np.floor(), np.trunc(), np.ceil()"
   ]
  },
  {
   "cell_type": "code",
   "execution_count": 67,
   "metadata": {},
   "outputs": [
    {
     "name": "stdout",
     "output_type": "stream",
     "text": [
      "Array with values rounded down: \n",
      " [[ 10.  10.  10.]\n",
      " [-10. -11. -11.]]\n",
      "Array with truncated values: \n",
      " [[ 10.  10.  10.]\n",
      " [-10. -10. -10.]]\n",
      "Array with values rounded up: \n",
      " [[ 10.  11.  11.]\n",
      " [-10. -10. -10.]]\n"
     ]
    }
   ],
   "source": [
    "arrToBeRounded = np.array([[10.0, 10.1, 10.9], [-10.0, -10.1, -10.9]])\n",
    "\n",
    "roundFloor = np.floor(arrToBeRounded) # Rounded down\n",
    "# [[ 10.  10.  10.]\n",
    "#  [-10. -11. -11.]]\n",
    "print(f\"Array with values rounded down: \\n {roundFloor}\")\n",
    "\n",
    "roundTrunc = np.trunc(arrToBeRounded) # Rounded towards zero\n",
    "# [[ 10.  10.  10.]\n",
    "#  [-10. -10. -10.]]\n",
    "print(f\"Array with truncated values: \\n {roundTrunc}\")\n",
    "\n",
    "roundCeil = np.ceil(arrToBeRounded)   # Rounded up\n",
    "# [[ 10.  11.  11.]\n",
    "#  [-10. -10. -10.]]\n",
    "print(f\"Array with values rounded up: \\n {roundCeil}\")\n"
   ]
  },
  {
   "cell_type": "markdown",
   "metadata": {},
   "source": [
    "Find the unique elements of an array."
   ]
  },
  {
   "cell_type": "code",
   "execution_count": 68,
   "metadata": {},
   "outputs": [
    {
     "name": "stdout",
     "output_type": "stream",
     "text": [
      "Arr with unique, sorted values: [-10.  10.]\n"
     ]
    }
   ],
   "source": [
    "uniqueArr = np.unique(roundTrunc) # We used truncated array\n",
    "# [-10. 10.]\n",
    "print(f\"Arr with unique, sorted values: {uniqueArr}\")"
   ]
  },
  {
   "cell_type": "markdown",
   "metadata": {},
   "source": [
    "##### Check if there is NaN\n",
    "The numpy.isnan() function tests element-wise whether it is NaN (Not a Number) or not and returns the result as a boolean array."
   ]
  },
  {
   "cell_type": "code",
   "execution_count": 69,
   "metadata": {},
   "outputs": [
    {
     "name": "stdout",
     "output_type": "stream",
     "text": [
      "Output for isnan where all elements are numbers: [False False False False]\n"
     ]
    }
   ],
   "source": [
    "arrayWithNumbers = np.array([2,1,3,7])\n",
    "\n",
    "isNanWithNumbers = np.isnan(arrayWithNumbers)\n",
    "# [False False False False]\n",
    "print(f\"Output for isnan where all elements are numbers: {isNanWithNumbers}\")"
   ]
  },
  {
   "cell_type": "markdown",
   "metadata": {},
   "source": [
    "##### Raise to the given power"
   ]
  },
  {
   "cell_type": "code",
   "execution_count": 70,
   "metadata": {},
   "outputs": [
    {
     "name": "stdout",
     "output_type": "stream",
     "text": [
      "Array raised to the power: [ 1  4 16 36 64]\n"
     ]
    }
   ],
   "source": [
    "arrayToBeRaised = np.array([1,2,4,6,8])\n",
    "arrayOfPowers = np.full_like(a=arrayToBeRaised, fill_value=2)\n",
    "\n",
    "arrayRaisedToPower = np.power(arrayToBeRaised , arrayOfPowers)\n",
    "# [1 4 16 36 64]\n",
    "print(f\"Array raised to the power: {arrayRaisedToPower}\")"
   ]
  },
  {
   "cell_type": "markdown",
   "metadata": {},
   "source": [
    "# Linear Algebra"
   ]
  },
  {
   "cell_type": "markdown",
   "metadata": {},
   "source": [
    "Hopefully, you know some of linear algebra basics, but if not, i will try to make quick introduction.\n",
    "\n",
    "Data science and linear algebra are intricately connected and mutually important. \n",
    "\n",
    "- Data Representation: Data in data science is often represented as vectors and matrices, fundamental constructs in linear algebra. This representation is essential for organizing and manipulating large datasets efficiently.\n",
    "\n",
    "- Dimensionality Reduction: Techniques like Principal Component Analysis (PCA) rely heavily on linear algebra concepts to reduce the number of variables in a dataset while retaining its essential features. This helps in simplifying models and improving computational efficiency.\n",
    "\n",
    "- Eigenvalues and Eigenvectors: These concepts are crucial in various data science applications, including spectral clustering, network analysis, and stability analysis of algorithms.\n",
    "\n",
    "- Data Transformation and Feature Extraction: Operations like rotations, translations, and scaling of data, which are common in preprocessing steps, are efficiently handled using linear algebra techniques.\n",
    "\n",
    "In other word - linear algebra is essential :)\n",
    "\n",
    "Check out more: https://numpy.org/doc/stable/reference/routines.linalg.html"
   ]
  },
  {
   "cell_type": "markdown",
   "metadata": {},
   "source": [
    "##### Array parameters"
   ]
  },
  {
   "cell_type": "code",
   "execution_count": 71,
   "metadata": {},
   "outputs": [],
   "source": [
    "matrix = np.array([[6, 5, 1], [4, -1, 5], [11, 8, 2]])"
   ]
  },
  {
   "cell_type": "markdown",
   "metadata": {},
   "source": [
    "The rank of a matrix is the number of independent rows or columns it has."
   ]
  },
  {
   "cell_type": "code",
   "execution_count": 72,
   "metadata": {},
   "outputs": [
    {
     "name": "stdout",
     "output_type": "stream",
     "text": [
      "Rank of matrix: 3\n"
     ]
    }
   ],
   "source": [
    "rankOfMatrix = np.linalg.matrix_rank(matrix)\n",
    "# 3\n",
    "print(f\"Rank of matrix: {rankOfMatrix}\")"
   ]
  },
  {
   "cell_type": "markdown",
   "metadata": {},
   "source": [
    "The trace of a matrix is the sum of the diagonal elements of a square matrix."
   ]
  },
  {
   "cell_type": "code",
   "execution_count": 73,
   "metadata": {},
   "outputs": [
    {
     "name": "stdout",
     "output_type": "stream",
     "text": [
      "Trace of matrix: 7\n"
     ]
    }
   ],
   "source": [
    "traceOfMatrix = np.trace(matrix)\n",
    "# 7\n",
    "print(f\"Trace of matrix: {traceOfMatrix}\")"
   ]
  },
  {
   "cell_type": "markdown",
   "metadata": {},
   "source": [
    "The determinant is special number that provides information such as wheter matrix is invertible."
   ]
  },
  {
   "cell_type": "code",
   "execution_count": 74,
   "metadata": {},
   "outputs": [
    {
     "name": "stdout",
     "output_type": "stream",
     "text": [
      "Determinant of matrix: 26.000000000000025\n"
     ]
    }
   ],
   "source": [
    "detOfMatrix = np.linalg.det(matrix)\n",
    "# 26\n",
    "print(f\"Determinant of matrix: {detOfMatrix}\")"
   ]
  },
  {
   "cell_type": "markdown",
   "metadata": {},
   "source": [
    "Inverse matrix."
   ]
  },
  {
   "cell_type": "code",
   "execution_count": 75,
   "metadata": {},
   "outputs": [
    {
     "name": "stdout",
     "output_type": "stream",
     "text": [
      "Inversed matrix: \n",
      " [[-1.61538462 -0.07692308  1.        ]\n",
      " [ 1.80769231  0.03846154 -1.        ]\n",
      " [ 1.65384615  0.26923077 -1.        ]]\n"
     ]
    }
   ],
   "source": [
    "inversedMatrix = np.linalg.inv(matrix)\n",
    "#[[-1.61538462 -0.07692308  1. ]\n",
    "# [ 1.80769231  0.03846154 -1. ]\n",
    "# [ 1.65384615  0.26923077 -1. ]]\n",
    "print(f\"Inversed matrix: \\n {inversedMatrix}\")"
   ]
  },
  {
   "cell_type": "markdown",
   "metadata": {},
   "source": [
    "The dot product is a way to multiply two vectors that results in a single number."
   ]
  },
  {
   "cell_type": "code",
   "execution_count": 76,
   "metadata": {},
   "outputs": [
    {
     "name": "stdout",
     "output_type": "stream",
     "text": [
      "Dot product: 32\n"
     ]
    }
   ],
   "source": [
    "vector1 = np.array([1,2,3])\n",
    "vector2 = np.array([4,5,6])\n",
    "\n",
    "dotProduct = np.dot(vector1, vector2)\n",
    "# 32\n",
    "print(f\"Dot product: {dotProduct}\")"
   ]
  }
 ],
 "metadata": {
  "kernelspec": {
   "display_name": "Python 3",
   "language": "python",
   "name": "python3"
  },
  "language_info": {
   "codemirror_mode": {
    "name": "ipython",
    "version": 3
   },
   "file_extension": ".py",
   "mimetype": "text/x-python",
   "name": "python",
   "nbconvert_exporter": "python",
   "pygments_lexer": "ipython3",
   "version": "3.12.2"
  }
 },
 "nbformat": 4,
 "nbformat_minor": 2
}
