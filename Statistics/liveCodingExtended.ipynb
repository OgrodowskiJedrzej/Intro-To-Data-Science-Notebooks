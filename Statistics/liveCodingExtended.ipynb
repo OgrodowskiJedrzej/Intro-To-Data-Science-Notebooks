{
 "cells": [
  {
   "cell_type": "markdown",
   "metadata": {},
   "source": [
    "Masz zestaw danych przedstawiający wyniki badań zdrowotnych pacjentów. Twoim zadaniem jest przeprowadzenie wszechstronnej analizy statystycznej, obejmującej różnorodne testy hipotez oraz analizy opisowe. Skoncentrujemy się na badaniu wpływu stylu życia (np. diety, aktywności fizycznej) na różne wskaźniki zdrowotne, takie jak poziom cholesterolu, ciśnienie krwi i wskaźnik masy ciała (BMI)."
   ]
  },
  {
   "cell_type": "code",
   "execution_count": 12,
   "metadata": {},
   "outputs": [],
   "source": [
    "import pandas as pd\n",
    "import numpy as np\n",
    "from scipy import stats\n",
    "import matplotlib.pyplot as plt\n",
    "import seaborn as sns\n",
    "\n",
    "np.random.seed(42)\n",
    "\n",
    "n = 100\n",
    "\n",
    "data = {\n",
    "    'id': np.arange(1, n + 1),\n",
    "    'age': np.random.randint(20, 70, n),\n",
    "    'cholesterol': np.random.normal(200, 30, n),  \n",
    "    'blood_pressure': np.random.normal(120, 15, n),  \n",
    "    'BMI': np.random.normal(25, 4, n), \n",
    "    'diet': np.random.choice(['healthy', 'standard'], n),\n",
    "    'exercise': np.random.choice(['low', 'medium', 'high'], n)\n",
    "}\n",
    "\n",
    "df = pd.DataFrame(data)"
   ]
  },
  {
   "cell_type": "markdown",
   "metadata": {},
   "source": [
    "1. Preliminary data analysis."
   ]
  },
  {
   "cell_type": "markdown",
   "metadata": {},
   "source": [
    "2. Description of statistics for each parameters"
   ]
  },
  {
   "cell_type": "markdown",
   "metadata": {},
   "source": [
    "3. Visualisation"
   ]
  },
  {
   "cell_type": "markdown",
   "metadata": {},
   "source": [
    "4. T-test for cholesterol level"
   ]
  },
  {
   "cell_type": "markdown",
   "metadata": {},
   "source": [
    "5. ANOVA test for blood pressure depending on diet and physical activity"
   ]
  },
  {
   "cell_type": "markdown",
   "metadata": {},
   "source": [
    "6. Pearson correlation between BMI and cholesterol levels"
   ]
  },
  {
   "cell_type": "markdown",
   "metadata": {},
   "source": [
    "7. Conclusions"
   ]
  }
 ],
 "metadata": {
  "kernelspec": {
   "display_name": "Python 3",
   "language": "python",
   "name": "python3"
  },
  "language_info": {
   "codemirror_mode": {
    "name": "ipython",
    "version": 3
   },
   "file_extension": ".py",
   "mimetype": "text/x-python",
   "name": "python",
   "nbconvert_exporter": "python",
   "pygments_lexer": "ipython3",
   "version": "3.12.2"
  }
 },
 "nbformat": 4,
 "nbformat_minor": 2
}
